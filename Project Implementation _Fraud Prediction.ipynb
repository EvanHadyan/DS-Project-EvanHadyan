{
 "cells": [
  {
   "cell_type": "code",
   "execution_count": 1,
   "id": "405f2bdd",
   "metadata": {},
   "outputs": [],
   "source": [
    "import pandas as pd\n",
    "import numpy as np\n",
    "import matplotlib.pyplot as plt\n",
    "import seaborn as sns\n",
    "%matplotlib inline\n",
    "import warnings\n",
    "warnings.filterwarnings('ignore')"
   ]
  },
  {
   "cell_type": "markdown",
   "id": "814449c7",
   "metadata": {},
   "source": [
    "### Tujuan Pengolahan"
   ]
  },
  {
   "cell_type": "markdown",
   "id": "5551a076",
   "metadata": {},
   "source": [
    "Memprediksi apakah berbagai transaksi yang tercatat adalah fraud atau tidak dengan menggunakan model machine learning logistic regression, decision tree , random forest dan menilai performa dari ketiga model machine learning tersebut."
   ]
  },
  {
   "cell_type": "markdown",
   "id": "9e255f31",
   "metadata": {},
   "source": [
    "### Atribut Informasi"
   ]
  },
  {
   "cell_type": "markdown",
   "id": "a2e04764",
   "metadata": {},
   "source": [
    "1. accountNumber = The account number of the customer\n",
    "2. customerId = The id of the customer\n",
    "3. creditLimit =  the amount of money that can be charged to the credit card\n",
    "4. availableMoney  = the amount of money in the credit card before adjusting for pending charges (current available limit that can be used)\n",
    "5. transactionDateTime = The transaction timestamp when it happened\n",
    "6. transactionAmount = The amount of transaction \n",
    "7. merchantName = the merchant name of the particular transaction\n",
    "8. acqCountry  = the country where the merchant is located\n",
    "9. merchantCountryCode = the country code for the specific merchant\n",
    "10. posEntryMode = a code that tells the processor how the transaction was captured\n",
    "11. posConditionCode = a code identifying transaction conditions at the point-of-sale or point-of-service\n",
    "12. merchantCategoryCode = the merchant category/types\n",
    "13. currentExpDate =  The expiry date of the credit card\n",
    "14. accountOpenDate = the date when the customer open the credit card\n",
    "15. dateOfLastAddressChange = the last date when the customer change the credit card address\n",
    "16. cardCVV = the actual card verification value\n",
    "17. enteredCVV = the entered card verification value when the transaction happens\n",
    "18. cardLast4Digits = the last 4 digits of the credit card\n",
    "19. transactionType  = the types of transactions\n",
    "20. isFraud = the status of the fraud transaction\n",
    "21. currentBalance = The current balance of the credit card (current billing/credit card usage)\n",
    "22. cardPresent = the physical presence of the credit card in the transaction\n",
    "23. expirationDateKeyInMatch = the match between the expiration date in the system and what was inputted"
   ]
  },
  {
   "cell_type": "markdown",
   "id": "bfef8d6a",
   "metadata": {},
   "source": [
    "### Read Data & Cek Kelengkapan Data"
   ]
  },
  {
   "cell_type": "code",
   "execution_count": 3,
   "id": "d149b1a1",
   "metadata": {},
   "outputs": [],
   "source": [
    "data = pd.read_csv('transactions (1).csv')"
   ]
  },
  {
   "cell_type": "code",
   "execution_count": 3,
   "id": "b3be90dd",
   "metadata": {},
   "outputs": [
    {
     "data": {
      "text/html": [
       "<div>\n",
       "<style scoped>\n",
       "    .dataframe tbody tr th:only-of-type {\n",
       "        vertical-align: middle;\n",
       "    }\n",
       "\n",
       "    .dataframe tbody tr th {\n",
       "        vertical-align: top;\n",
       "    }\n",
       "\n",
       "    .dataframe thead th {\n",
       "        text-align: right;\n",
       "    }\n",
       "</style>\n",
       "<table border=\"1\" class=\"dataframe\">\n",
       "  <thead>\n",
       "    <tr style=\"text-align: right;\">\n",
       "      <th></th>\n",
       "      <th>accountNumber</th>\n",
       "      <th>customerId</th>\n",
       "      <th>creditLimit</th>\n",
       "      <th>availableMoney</th>\n",
       "      <th>transactionDateTime</th>\n",
       "      <th>transactionAmount</th>\n",
       "      <th>merchantName</th>\n",
       "      <th>acqCountry</th>\n",
       "      <th>merchantCountryCode</th>\n",
       "      <th>posEntryMode</th>\n",
       "      <th>...</th>\n",
       "      <th>accountOpenDate</th>\n",
       "      <th>dateOfLastAddressChange</th>\n",
       "      <th>cardCVV</th>\n",
       "      <th>enteredCVV</th>\n",
       "      <th>cardLast4Digits</th>\n",
       "      <th>transactionType</th>\n",
       "      <th>isFraud</th>\n",
       "      <th>currentBalance</th>\n",
       "      <th>cardPresent</th>\n",
       "      <th>expirationDateKeyInMatch</th>\n",
       "    </tr>\n",
       "  </thead>\n",
       "  <tbody>\n",
       "    <tr>\n",
       "      <th>0</th>\n",
       "      <td>733493772</td>\n",
       "      <td>733493772</td>\n",
       "      <td>5000</td>\n",
       "      <td>5000.00</td>\n",
       "      <td>2016-01-08T19:04:50</td>\n",
       "      <td>111.33</td>\n",
       "      <td>Lyft</td>\n",
       "      <td>US</td>\n",
       "      <td>US</td>\n",
       "      <td>5.0</td>\n",
       "      <td>...</td>\n",
       "      <td>3/8/2014</td>\n",
       "      <td>3/8/2014</td>\n",
       "      <td>492</td>\n",
       "      <td>492</td>\n",
       "      <td>9184</td>\n",
       "      <td>PURCHASE</td>\n",
       "      <td>True</td>\n",
       "      <td>0.00</td>\n",
       "      <td>False</td>\n",
       "      <td>False</td>\n",
       "    </tr>\n",
       "    <tr>\n",
       "      <th>1</th>\n",
       "      <td>733493772</td>\n",
       "      <td>733493772</td>\n",
       "      <td>5000</td>\n",
       "      <td>4888.67</td>\n",
       "      <td>2016-01-09T22:32:39</td>\n",
       "      <td>24.75</td>\n",
       "      <td>Uber</td>\n",
       "      <td>US</td>\n",
       "      <td>US</td>\n",
       "      <td>9.0</td>\n",
       "      <td>...</td>\n",
       "      <td>3/8/2014</td>\n",
       "      <td>3/8/2014</td>\n",
       "      <td>492</td>\n",
       "      <td>492</td>\n",
       "      <td>9184</td>\n",
       "      <td>PURCHASE</td>\n",
       "      <td>False</td>\n",
       "      <td>111.33</td>\n",
       "      <td>False</td>\n",
       "      <td>False</td>\n",
       "    </tr>\n",
       "    <tr>\n",
       "      <th>2</th>\n",
       "      <td>733493772</td>\n",
       "      <td>733493772</td>\n",
       "      <td>5000</td>\n",
       "      <td>4863.92</td>\n",
       "      <td>2016-01-11T13:36:55</td>\n",
       "      <td>187.40</td>\n",
       "      <td>Lyft</td>\n",
       "      <td>US</td>\n",
       "      <td>US</td>\n",
       "      <td>5.0</td>\n",
       "      <td>...</td>\n",
       "      <td>3/8/2014</td>\n",
       "      <td>3/8/2014</td>\n",
       "      <td>492</td>\n",
       "      <td>492</td>\n",
       "      <td>9184</td>\n",
       "      <td>PURCHASE</td>\n",
       "      <td>False</td>\n",
       "      <td>136.08</td>\n",
       "      <td>False</td>\n",
       "      <td>False</td>\n",
       "    </tr>\n",
       "  </tbody>\n",
       "</table>\n",
       "<p>3 rows × 23 columns</p>\n",
       "</div>"
      ],
      "text/plain": [
       "   accountNumber  customerId  creditLimit  availableMoney  \\\n",
       "0      733493772   733493772         5000         5000.00   \n",
       "1      733493772   733493772         5000         4888.67   \n",
       "2      733493772   733493772         5000         4863.92   \n",
       "\n",
       "   transactionDateTime  transactionAmount merchantName acqCountry  \\\n",
       "0  2016-01-08T19:04:50             111.33         Lyft         US   \n",
       "1  2016-01-09T22:32:39              24.75         Uber         US   \n",
       "2  2016-01-11T13:36:55             187.40         Lyft         US   \n",
       "\n",
       "  merchantCountryCode  posEntryMode  ...  accountOpenDate  \\\n",
       "0                  US           5.0  ...         3/8/2014   \n",
       "1                  US           9.0  ...         3/8/2014   \n",
       "2                  US           5.0  ...         3/8/2014   \n",
       "\n",
       "  dateOfLastAddressChange cardCVV enteredCVV cardLast4Digits  transactionType  \\\n",
       "0                3/8/2014     492        492            9184         PURCHASE   \n",
       "1                3/8/2014     492        492            9184         PURCHASE   \n",
       "2                3/8/2014     492        492            9184         PURCHASE   \n",
       "\n",
       "   isFraud  currentBalance cardPresent  expirationDateKeyInMatch  \n",
       "0     True            0.00       False                     False  \n",
       "1    False          111.33       False                     False  \n",
       "2    False          136.08       False                     False  \n",
       "\n",
       "[3 rows x 23 columns]"
      ]
     },
     "execution_count": 3,
     "metadata": {},
     "output_type": "execute_result"
    }
   ],
   "source": [
    "data.head(3)"
   ]
  },
  {
   "cell_type": "code",
   "execution_count": 4,
   "id": "849f00db",
   "metadata": {},
   "outputs": [
    {
     "name": "stdout",
     "output_type": "stream",
     "text": [
      "<class 'pandas.core.frame.DataFrame'>\n",
      "RangeIndex: 641914 entries, 0 to 641913\n",
      "Data columns (total 23 columns):\n",
      " #   Column                    Non-Null Count   Dtype  \n",
      "---  ------                    --------------   -----  \n",
      " 0   accountNumber             641914 non-null  int64  \n",
      " 1   customerId                641914 non-null  int64  \n",
      " 2   creditLimit               641914 non-null  int64  \n",
      " 3   availableMoney            641914 non-null  float64\n",
      " 4   transactionDateTime       641914 non-null  object \n",
      " 5   transactionAmount         641914 non-null  float64\n",
      " 6   merchantName              641914 non-null  object \n",
      " 7   acqCountry                638001 non-null  object \n",
      " 8   merchantCountryCode       641290 non-null  object \n",
      " 9   posEntryMode              638569 non-null  float64\n",
      " 10  posConditionCode          641627 non-null  float64\n",
      " 11  merchantCategoryCode      641914 non-null  object \n",
      " 12  currentExpDate            641914 non-null  object \n",
      " 13  accountOpenDate           641914 non-null  object \n",
      " 14  dateOfLastAddressChange   641914 non-null  object \n",
      " 15  cardCVV                   641914 non-null  int64  \n",
      " 16  enteredCVV                641914 non-null  int64  \n",
      " 17  cardLast4Digits           641914 non-null  int64  \n",
      " 18  transactionType           641325 non-null  object \n",
      " 19  isFraud                   641914 non-null  bool   \n",
      " 20  currentBalance            641914 non-null  float64\n",
      " 21  cardPresent               641914 non-null  bool   \n",
      " 22  expirationDateKeyInMatch  641914 non-null  bool   \n",
      "dtypes: bool(3), float64(5), int64(6), object(9)\n",
      "memory usage: 99.8+ MB\n"
     ]
    }
   ],
   "source": [
    "data.info()"
   ]
  },
  {
   "cell_type": "markdown",
   "id": "efa5f149",
   "metadata": {},
   "source": [
    "### Data Cleansing"
   ]
  },
  {
   "cell_type": "code",
   "execution_count": 5,
   "id": "f9301617",
   "metadata": {},
   "outputs": [],
   "source": [
    "# kolom 'transactionsdatetime', 'currentexpdate', 'accountopendate', 'dateoflastadresschange' dirubah ke time\n",
    "data['transactionDateTime'] = pd.to_datetime(data['transactionDateTime'], format=\"%Y-%m-%dT%H:%M:%S\")\n",
    "data['currentExpDate'] = pd.to_datetime(data['currentExpDate'], format=\"%d/%m/%Y\")\n",
    "data['accountOpenDate'] = pd.to_datetime(data['accountOpenDate'], format=\"%d/%m/%Y\")\n",
    "data['dateOfLastAddressChange'] = pd.to_datetime(data['accountOpenDate'], format=\"%d/%m/%Y\")"
   ]
  },
  {
   "cell_type": "code",
   "execution_count": 6,
   "id": "87479147",
   "metadata": {},
   "outputs": [
    {
     "data": {
      "text/plain": [
       "accountNumber                  0\n",
       "customerId                     0\n",
       "creditLimit                    0\n",
       "availableMoney                 0\n",
       "transactionDateTime            0\n",
       "transactionAmount              0\n",
       "merchantName                   0\n",
       "acqCountry                  3913\n",
       "merchantCountryCode          624\n",
       "posEntryMode                3345\n",
       "posConditionCode             287\n",
       "merchantCategoryCode           0\n",
       "currentExpDate                 0\n",
       "accountOpenDate                0\n",
       "dateOfLastAddressChange        0\n",
       "cardCVV                        0\n",
       "enteredCVV                     0\n",
       "cardLast4Digits                0\n",
       "transactionType              589\n",
       "isFraud                        0\n",
       "currentBalance                 0\n",
       "cardPresent                    0\n",
       "expirationDateKeyInMatch       0\n",
       "dtype: int64"
      ]
     },
     "execution_count": 6,
     "metadata": {},
     "output_type": "execute_result"
    }
   ],
   "source": [
    "#cek jumlah baris yang null value\n",
    "data.isnull().sum()"
   ]
  },
  {
   "cell_type": "code",
   "execution_count": 7,
   "id": "7de2ffbd",
   "metadata": {},
   "outputs": [],
   "source": [
    "# isi missing value dengan modus\n",
    "columns = ['acqCountry', 'merchantCountryCode', 'posEntryMode', 'posConditionCode', 'transactionType']\n",
    "for col in columns:\n",
    "    data[col].fillna(data[col].mode()[0], inplace=True)"
   ]
  },
  {
   "cell_type": "code",
   "execution_count": 8,
   "id": "f84e9e47",
   "metadata": {},
   "outputs": [],
   "source": [
    "# ubah tipe data menjadi object\n",
    "col_list = ['posEntryMode', 'posConditionCode']\n",
    "data[col_list] = data[col_list].astype('object')"
   ]
  },
  {
   "cell_type": "code",
   "execution_count": 9,
   "id": "97f41892",
   "metadata": {},
   "outputs": [
    {
     "data": {
      "text/plain": [
       "accountNumber               0\n",
       "customerId                  0\n",
       "creditLimit                 0\n",
       "availableMoney              0\n",
       "transactionDateTime         0\n",
       "transactionAmount           0\n",
       "merchantName                0\n",
       "acqCountry                  0\n",
       "merchantCountryCode         0\n",
       "posEntryMode                0\n",
       "posConditionCode            0\n",
       "merchantCategoryCode        0\n",
       "currentExpDate              0\n",
       "accountOpenDate             0\n",
       "dateOfLastAddressChange     0\n",
       "cardCVV                     0\n",
       "enteredCVV                  0\n",
       "cardLast4Digits             0\n",
       "transactionType             0\n",
       "isFraud                     0\n",
       "currentBalance              0\n",
       "cardPresent                 0\n",
       "expirationDateKeyInMatch    0\n",
       "dtype: int64"
      ]
     },
     "execution_count": 9,
     "metadata": {},
     "output_type": "execute_result"
    }
   ],
   "source": [
    "data.isnull().sum()"
   ]
  },
  {
   "cell_type": "code",
   "execution_count": 10,
   "id": "95df620a",
   "metadata": {},
   "outputs": [
    {
     "data": {
      "text/plain": [
       "0"
      ]
     },
     "execution_count": 10,
     "metadata": {},
     "output_type": "execute_result"
    }
   ],
   "source": [
    "#cek data duplikat\n",
    "data.duplicated().sum()"
   ]
  },
  {
   "cell_type": "code",
   "execution_count": 11,
   "id": "a998470e",
   "metadata": {},
   "outputs": [
    {
     "name": "stdout",
     "output_type": "stream",
     "text": [
      "<class 'pandas.core.frame.DataFrame'>\n",
      "RangeIndex: 641914 entries, 0 to 641913\n",
      "Data columns (total 23 columns):\n",
      " #   Column                    Non-Null Count   Dtype         \n",
      "---  ------                    --------------   -----         \n",
      " 0   accountNumber             641914 non-null  int64         \n",
      " 1   customerId                641914 non-null  int64         \n",
      " 2   creditLimit               641914 non-null  int64         \n",
      " 3   availableMoney            641914 non-null  float64       \n",
      " 4   transactionDateTime       641914 non-null  datetime64[ns]\n",
      " 5   transactionAmount         641914 non-null  float64       \n",
      " 6   merchantName              641914 non-null  object        \n",
      " 7   acqCountry                641914 non-null  object        \n",
      " 8   merchantCountryCode       641914 non-null  object        \n",
      " 9   posEntryMode              641914 non-null  object        \n",
      " 10  posConditionCode          641914 non-null  object        \n",
      " 11  merchantCategoryCode      641914 non-null  object        \n",
      " 12  currentExpDate            641914 non-null  datetime64[ns]\n",
      " 13  accountOpenDate           641914 non-null  datetime64[ns]\n",
      " 14  dateOfLastAddressChange   641914 non-null  datetime64[ns]\n",
      " 15  cardCVV                   641914 non-null  int64         \n",
      " 16  enteredCVV                641914 non-null  int64         \n",
      " 17  cardLast4Digits           641914 non-null  int64         \n",
      " 18  transactionType           641914 non-null  object        \n",
      " 19  isFraud                   641914 non-null  bool          \n",
      " 20  currentBalance            641914 non-null  float64       \n",
      " 21  cardPresent               641914 non-null  bool          \n",
      " 22  expirationDateKeyInMatch  641914 non-null  bool          \n",
      "dtypes: bool(3), datetime64[ns](4), float64(3), int64(6), object(7)\n",
      "memory usage: 99.8+ MB\n"
     ]
    }
   ],
   "source": [
    "data.info()"
   ]
  },
  {
   "cell_type": "code",
   "execution_count": 12,
   "id": "289066b4",
   "metadata": {},
   "outputs": [
    {
     "name": "stdout",
     "output_type": "stream",
     "text": [
      "['accountNumber', 'customerId', 'creditLimit', 'availableMoney', 'transactionAmount', 'cardCVV', 'enteredCVV', 'cardLast4Digits', 'currentBalance']\n"
     ]
    }
   ],
   "source": [
    "#cek outlier pada data numerik\n",
    "numerik = data.select_dtypes(include=['int64', 'float64']).columns.to_list()\n",
    "print(numerik)"
   ]
  },
  {
   "cell_type": "code",
   "execution_count": 13,
   "id": "e75484bf",
   "metadata": {},
   "outputs": [
    {
     "name": "stdout",
     "output_type": "stream",
     "text": [
      "outlier numerik\n"
     ]
    },
    {
     "data": {
      "image/png": "[encoded data removed]",
      "text/plain": [
       "<Figure size 1800x1800 with 9 Axes>"
      ]
     },
     "metadata": {
      "needs_background": "light"
     },
     "output_type": "display_data"
    }
   ],
   "source": [
    "def plot_numerik(df):\n",
    "    plt.figure(figsize=(25, 25))\n",
    "    \n",
    "    for x in range(len(df[numerik].columns)):\n",
    "        plt.subplot(4,3,x+1)\n",
    "        sns.boxplot(x=df[numerik].columns[x],\n",
    "                    data=df[numerik])\n",
    "plt.show()\n",
    "print('outlier numerik')\n",
    "plot_numerik(data)"
   ]
  },
  {
   "cell_type": "markdown",
   "id": "67c63286",
   "metadata": {},
   "source": [
    "kolom yang memiliki outlier adalah 'creditLimit', 'availableMoney', 'transactionAmount', 'currentBalance'\n",
    "dari keempat kolom, yang outlier akan dihilangkan adalah kolom creditLimit karena outliernya dinilai tinggi dan jauh dari kelompok nilai non outlier. sedangkan untuk kolom lainya outlier tidak dihilangkan karena dirasa nilai tersebut dirasa masuk akal dan jarak antara kelompok nilai non outlier dan kelompok nilai outlier tidak terlalu jauh."
   ]
  },
  {
   "cell_type": "code",
   "execution_count": 14,
   "id": "874560d6",
   "metadata": {},
   "outputs": [],
   "source": [
    "#remove outlier pada kolom creditlimit\n",
    "numerik_upper = ['creditLimit']\n",
    "def remove_outlier(df):\n",
    "    for col in df[numerik_upper].columns:\n",
    "        q1 = df[col].quantile(0.25)\n",
    "        q3 = df[col].quantile(0.75)\n",
    "        iqr = q3 - q1\n",
    "        lower = q1 - 1.5*iqr\n",
    "        upper = q3 + 1.5*iqr\n",
    "        cond1 = df[col] > upper\n",
    "        df[col] = np.where(cond1, upper, df[col])\n",
    "        \n",
    "remove_outlier(data)"
   ]
  },
  {
   "cell_type": "code",
   "execution_count": 15,
   "id": "52e8a627",
   "metadata": {},
   "outputs": [
    {
     "data": {
      "text/plain": [
       "<AxesSubplot:xlabel='creditLimit'>"
      ]
     },
     "execution_count": 15,
     "metadata": {},
     "output_type": "execute_result"
    },
    {
     "data": {
      "image/png": "[encoded data removed]",
      "text/plain": [
       "<Figure size 432x288 with 1 Axes>"
      ]
     },
     "metadata": {
      "needs_background": "light"
     },
     "output_type": "display_data"
    }
   ],
   "source": [
    " sns.boxplot(x=data['creditLimit'],\n",
    "                    data=data)"
   ]
  },
  {
   "cell_type": "markdown",
   "id": "ab5b0cb8",
   "metadata": {},
   "source": [
    "### Data Exploration"
   ]
  },
  {
   "cell_type": "code",
   "execution_count": 18,
   "id": "ed436a12",
   "metadata": {},
   "outputs": [
    {
     "data": {
      "text/html": [
       "<div>\n",
       "<style scoped>\n",
       "    .dataframe tbody tr th:only-of-type {\n",
       "        vertical-align: middle;\n",
       "    }\n",
       "\n",
       "    .dataframe tbody tr th {\n",
       "        vertical-align: top;\n",
       "    }\n",
       "\n",
       "    .dataframe thead th {\n",
       "        text-align: right;\n",
       "    }\n",
       "</style>\n",
       "<table border=\"1\" class=\"dataframe\">\n",
       "  <thead>\n",
       "    <tr style=\"text-align: right;\">\n",
       "      <th></th>\n",
       "      <th>accountNumber</th>\n",
       "      <th>customerId</th>\n",
       "      <th>creditLimit</th>\n",
       "      <th>availableMoney</th>\n",
       "      <th>transactionAmount</th>\n",
       "      <th>cardCVV</th>\n",
       "      <th>enteredCVV</th>\n",
       "      <th>cardLast4Digits</th>\n",
       "      <th>currentBalance</th>\n",
       "    </tr>\n",
       "  </thead>\n",
       "  <tbody>\n",
       "    <tr>\n",
       "      <th>count</th>\n",
       "      <td>6.419140e+05</td>\n",
       "      <td>6.419140e+05</td>\n",
       "      <td>641914.000000</td>\n",
       "      <td>641914.000000</td>\n",
       "      <td>641914.000000</td>\n",
       "      <td>641914.000000</td>\n",
       "      <td>641914.000000</td>\n",
       "      <td>641914.000000</td>\n",
       "      <td>641914.000000</td>\n",
       "    </tr>\n",
       "    <tr>\n",
       "      <th>mean</th>\n",
       "      <td>5.547701e+08</td>\n",
       "      <td>5.547701e+08</td>\n",
       "      <td>9512.036270</td>\n",
       "      <td>6652.828573</td>\n",
       "      <td>135.162497</td>\n",
       "      <td>557.199927</td>\n",
       "      <td>556.775160</td>\n",
       "      <td>4886.184043</td>\n",
       "      <td>4044.382035</td>\n",
       "    </tr>\n",
       "    <tr>\n",
       "      <th>std</th>\n",
       "      <td>2.546884e+08</td>\n",
       "      <td>2.546884e+08</td>\n",
       "      <td>7776.712339</td>\n",
       "      <td>9227.132275</td>\n",
       "      <td>147.053302</td>\n",
       "      <td>257.326204</td>\n",
       "      <td>257.402639</td>\n",
       "      <td>2859.053679</td>\n",
       "      <td>5945.510224</td>\n",
       "    </tr>\n",
       "    <tr>\n",
       "      <th>min</th>\n",
       "      <td>1.005471e+08</td>\n",
       "      <td>1.005471e+08</td>\n",
       "      <td>250.000000</td>\n",
       "      <td>-1244.930000</td>\n",
       "      <td>0.000000</td>\n",
       "      <td>100.000000</td>\n",
       "      <td>1.000000</td>\n",
       "      <td>0.000000</td>\n",
       "      <td>0.000000</td>\n",
       "    </tr>\n",
       "    <tr>\n",
       "      <th>25%</th>\n",
       "      <td>3.223192e+08</td>\n",
       "      <td>3.223192e+08</td>\n",
       "      <td>5000.000000</td>\n",
       "      <td>1114.970000</td>\n",
       "      <td>32.320000</td>\n",
       "      <td>334.000000</td>\n",
       "      <td>333.000000</td>\n",
       "      <td>2364.000000</td>\n",
       "      <td>502.442500</td>\n",
       "    </tr>\n",
       "    <tr>\n",
       "      <th>50%</th>\n",
       "      <td>5.438879e+08</td>\n",
       "      <td>5.438879e+08</td>\n",
       "      <td>7500.000000</td>\n",
       "      <td>3578.165000</td>\n",
       "      <td>85.800000</td>\n",
       "      <td>581.000000</td>\n",
       "      <td>580.000000</td>\n",
       "      <td>4873.000000</td>\n",
       "      <td>2151.860000</td>\n",
       "    </tr>\n",
       "    <tr>\n",
       "      <th>75%</th>\n",
       "      <td>7.862277e+08</td>\n",
       "      <td>7.862277e+08</td>\n",
       "      <td>15000.000000</td>\n",
       "      <td>8169.185000</td>\n",
       "      <td>189.030000</td>\n",
       "      <td>762.000000</td>\n",
       "      <td>761.000000</td>\n",
       "      <td>7267.000000</td>\n",
       "      <td>5005.890000</td>\n",
       "    </tr>\n",
       "    <tr>\n",
       "      <th>max</th>\n",
       "      <td>9.999853e+08</td>\n",
       "      <td>9.999853e+08</td>\n",
       "      <td>30000.000000</td>\n",
       "      <td>50000.000000</td>\n",
       "      <td>1825.250000</td>\n",
       "      <td>998.000000</td>\n",
       "      <td>998.000000</td>\n",
       "      <td>9998.000000</td>\n",
       "      <td>47496.500000</td>\n",
       "    </tr>\n",
       "  </tbody>\n",
       "</table>\n",
       "</div>"
      ],
      "text/plain": [
       "       accountNumber    customerId    creditLimit  availableMoney  \\\n",
       "count   6.419140e+05  6.419140e+05  641914.000000   641914.000000   \n",
       "mean    5.547701e+08  5.547701e+08    9512.036270     6652.828573   \n",
       "std     2.546884e+08  2.546884e+08    7776.712339     9227.132275   \n",
       "min     1.005471e+08  1.005471e+08     250.000000    -1244.930000   \n",
       "25%     3.223192e+08  3.223192e+08    5000.000000     1114.970000   \n",
       "50%     5.438879e+08  5.438879e+08    7500.000000     3578.165000   \n",
       "75%     7.862277e+08  7.862277e+08   15000.000000     8169.185000   \n",
       "max     9.999853e+08  9.999853e+08   30000.000000    50000.000000   \n",
       "\n",
       "       transactionAmount        cardCVV     enteredCVV  cardLast4Digits  \\\n",
       "count      641914.000000  641914.000000  641914.000000    641914.000000   \n",
       "mean          135.162497     557.199927     556.775160      4886.184043   \n",
       "std           147.053302     257.326204     257.402639      2859.053679   \n",
       "min             0.000000     100.000000       1.000000         0.000000   \n",
       "25%            32.320000     334.000000     333.000000      2364.000000   \n",
       "50%            85.800000     581.000000     580.000000      4873.000000   \n",
       "75%           189.030000     762.000000     761.000000      7267.000000   \n",
       "max          1825.250000     998.000000     998.000000      9998.000000   \n",
       "\n",
       "       currentBalance  \n",
       "count   641914.000000  \n",
       "mean      4044.382035  \n",
       "std       5945.510224  \n",
       "min          0.000000  \n",
       "25%        502.442500  \n",
       "50%       2151.860000  \n",
       "75%       5005.890000  \n",
       "max      47496.500000  "
      ]
     },
     "execution_count": 18,
     "metadata": {},
     "output_type": "execute_result"
    }
   ],
   "source": [
    "data.describe()"
   ]
  },
  {
   "cell_type": "code",
   "execution_count": 19,
   "id": "fb828aed",
   "metadata": {},
   "outputs": [
    {
     "data": {
      "text/plain": [
       "array([[<AxesSubplot:title={'center':'creditLimit'}>,\n",
       "        <AxesSubplot:title={'center':'availableMoney'}>,\n",
       "        <AxesSubplot:title={'center':'transactionAmount'}>,\n",
       "        <AxesSubplot:title={'center':'currentBalance'}>, <AxesSubplot:>],\n",
       "       [<AxesSubplot:>, <AxesSubplot:>, <AxesSubplot:>, <AxesSubplot:>,\n",
       "        <AxesSubplot:>],\n",
       "       [<AxesSubplot:>, <AxesSubplot:>, <AxesSubplot:>, <AxesSubplot:>,\n",
       "        <AxesSubplot:>],\n",
       "       [<AxesSubplot:>, <AxesSubplot:>, <AxesSubplot:>, <AxesSubplot:>,\n",
       "        <AxesSubplot:>],\n",
       "       [<AxesSubplot:>, <AxesSubplot:>, <AxesSubplot:>, <AxesSubplot:>,\n",
       "        <AxesSubplot:>],\n",
       "       [<AxesSubplot:>, <AxesSubplot:>, <AxesSubplot:>, <AxesSubplot:>,\n",
       "        <AxesSubplot:>],\n",
       "       [<AxesSubplot:>, <AxesSubplot:>, <AxesSubplot:>, <AxesSubplot:>,\n",
       "        <AxesSubplot:>],\n",
       "       [<AxesSubplot:>, <AxesSubplot:>, <AxesSubplot:>, <AxesSubplot:>,\n",
       "        <AxesSubplot:>],\n",
       "       [<AxesSubplot:>, <AxesSubplot:>, <AxesSubplot:>, <AxesSubplot:>,\n",
       "        <AxesSubplot:>],\n",
       "       [<AxesSubplot:>, <AxesSubplot:>, <AxesSubplot:>, <AxesSubplot:>,\n",
       "        <AxesSubplot:>]], dtype=object)"
      ]
     },
     "execution_count": 19,
     "metadata": {},
     "output_type": "execute_result"
    },
    {
     "data": {
      "image/png": "[encoded data removed]",
      "text/plain": [
       "<Figure size 2160x4320 with 50 Axes>"
      ]
     },
     "metadata": {
      "needs_background": "light"
     },
     "output_type": "display_data"
    }
   ],
   "source": [
    "numerik = ['creditLimit', 'availableMoney', 'transactionAmount', 'currentBalance']\n",
    "data.hist(column=numerik, figsize=(30,60), layout=(10,5))"
   ]
  },
  {
   "cell_type": "markdown",
   "id": "afec481a",
   "metadata": {},
   "source": [
    " data numerik memiliki right skew dan tidak ada yang berdistribusi normal"
   ]
  },
  {
   "cell_type": "code",
   "execution_count": 20,
   "id": "42009bb3",
   "metadata": {},
   "outputs": [
    {
     "data": {
      "text/html": [
       "<div>\n",
       "<style scoped>\n",
       "    .dataframe tbody tr th:only-of-type {\n",
       "        vertical-align: middle;\n",
       "    }\n",
       "\n",
       "    .dataframe tbody tr th {\n",
       "        vertical-align: top;\n",
       "    }\n",
       "\n",
       "    .dataframe thead th {\n",
       "        text-align: right;\n",
       "    }\n",
       "</style>\n",
       "<table border=\"1\" class=\"dataframe\">\n",
       "  <thead>\n",
       "    <tr style=\"text-align: right;\">\n",
       "      <th></th>\n",
       "      <th>merchantName</th>\n",
       "      <th>acqCountry</th>\n",
       "      <th>merchantCountryCode</th>\n",
       "      <th>merchantCategoryCode</th>\n",
       "      <th>posEntryMode</th>\n",
       "      <th>posConditionCode</th>\n",
       "      <th>transactionType</th>\n",
       "      <th>isFraud</th>\n",
       "      <th>cardPresent</th>\n",
       "      <th>expirationDateKeyInMatch</th>\n",
       "    </tr>\n",
       "  </thead>\n",
       "  <tbody>\n",
       "    <tr>\n",
       "      <th>count</th>\n",
       "      <td>641914</td>\n",
       "      <td>641914</td>\n",
       "      <td>641914</td>\n",
       "      <td>641914</td>\n",
       "      <td>641914.0</td>\n",
       "      <td>641914.0</td>\n",
       "      <td>641914</td>\n",
       "      <td>641914</td>\n",
       "      <td>641914</td>\n",
       "      <td>641914</td>\n",
       "    </tr>\n",
       "    <tr>\n",
       "      <th>unique</th>\n",
       "      <td>2493</td>\n",
       "      <td>4</td>\n",
       "      <td>4</td>\n",
       "      <td>19</td>\n",
       "      <td>5.0</td>\n",
       "      <td>3.0</td>\n",
       "      <td>3</td>\n",
       "      <td>2</td>\n",
       "      <td>2</td>\n",
       "      <td>2</td>\n",
       "    </tr>\n",
       "    <tr>\n",
       "      <th>top</th>\n",
       "      <td>Lyft</td>\n",
       "      <td>US</td>\n",
       "      <td>US</td>\n",
       "      <td>online_retail</td>\n",
       "      <td>5.0</td>\n",
       "      <td>1.0</td>\n",
       "      <td>PURCHASE</td>\n",
       "      <td>False</td>\n",
       "      <td>False</td>\n",
       "      <td>False</td>\n",
       "    </tr>\n",
       "    <tr>\n",
       "      <th>freq</th>\n",
       "      <td>25311</td>\n",
       "      <td>636216</td>\n",
       "      <td>636201</td>\n",
       "      <td>161469</td>\n",
       "      <td>258960.0</td>\n",
       "      <td>514431.0</td>\n",
       "      <td>609274</td>\n",
       "      <td>630612</td>\n",
       "      <td>340453</td>\n",
       "      <td>640945</td>\n",
       "    </tr>\n",
       "  </tbody>\n",
       "</table>\n",
       "</div>"
      ],
      "text/plain": [
       "       merchantName acqCountry merchantCountryCode merchantCategoryCode  \\\n",
       "count        641914     641914              641914               641914   \n",
       "unique         2493          4                   4                   19   \n",
       "top            Lyft         US                  US        online_retail   \n",
       "freq          25311     636216              636201               161469   \n",
       "\n",
       "        posEntryMode  posConditionCode transactionType isFraud cardPresent  \\\n",
       "count       641914.0          641914.0          641914  641914      641914   \n",
       "unique           5.0               3.0               3       2           2   \n",
       "top              5.0               1.0        PURCHASE   False       False   \n",
       "freq        258960.0          514431.0          609274  630612      340453   \n",
       "\n",
       "       expirationDateKeyInMatch  \n",
       "count                    641914  \n",
       "unique                        2  \n",
       "top                       False  \n",
       "freq                     640945  "
      ]
     },
     "execution_count": 20,
     "metadata": {},
     "output_type": "execute_result"
    }
   ],
   "source": [
    "kategorik = ['merchantName','acqCountry', 'merchantCountryCode', 'merchantCategoryCode', 'posEntryMode', 'posConditionCode', 'transactionType','isFraud','cardPresent','expirationDateKeyInMatch']\n",
    "data[kategorik].describe()"
   ]
  },
  {
   "cell_type": "markdown",
   "id": "bd9eea8a",
   "metadata": {},
   "source": [
    "1. pada kolom merchantname, nama toko yang unik berjumlah 2493. barang yang seri dibeli oleh customer pada toko Lyft\n",
    "2. customer lebih banyak membeli barang di US\n",
    "3. customer lebih banyak membeli barang di jenis toko online retail\n",
    "4. customer lebih banyak jarang hadir saat proses pembelian berlangsung\n",
    "5. transaksi terbanyak berjenis purchase\n",
    "4. kebanyakan transaksi bukan penipuan\n",
    "6. kebanyakan customer tidak membawa kartu saat transaksi\n",
    "7. expiration date yang tercatat di sistem pada kartu kebanyakan tidak cocok dengan kartu yang tercetak"
   ]
  },
  {
   "cell_type": "markdown",
   "id": "c7112ba6",
   "metadata": {},
   "source": [
    "#### Analisa pada data target"
   ]
  },
  {
   "cell_type": "code",
   "execution_count": 21,
   "id": "068457bb",
   "metadata": {},
   "outputs": [
    {
     "data": {
      "image/png": "[encoded data removed]",
      "text/plain": [
       "<Figure size 432x288 with 1 Axes>"
      ]
     },
     "metadata": {},
     "output_type": "display_data"
    }
   ],
   "source": [
    "labels = data['isFraud'].value_counts(sort=True).index\n",
    "sizes = data['isFraud'].value_counts()\n",
    "colors = [\"yellow\",\"red\"]\n",
    "explode = (0.1,0)\n",
    "\n",
    "plt.pie(sizes, explode = explode, labels=labels, colors=colors, autopct='%0.1f%%')\n",
    "plt.title(\"percent of fraud\")\n",
    "plt.show()"
   ]
  },
  {
   "cell_type": "markdown",
   "id": "dc3587c0",
   "metadata": {},
   "source": [
    "persentase fraud hanya sebesar 1.8%. lalu data target mengalami imbalance"
   ]
  },
  {
   "cell_type": "markdown",
   "id": "25df2bdd",
   "metadata": {},
   "source": [
    "#### Analisa pada independent  variable"
   ]
  },
  {
   "cell_type": "code",
   "execution_count": 24,
   "id": "c1a920ac",
   "metadata": {},
   "outputs": [
    {
     "data": {
      "image/png": "[encoded data removed]",
      "text/plain": [
       "<Figure size 432x288 with 1 Axes>"
      ]
     },
     "metadata": {},
     "output_type": "display_data"
    }
   ],
   "source": [
    "labels = data['cardPresent'].value_counts(sort=True).index\n",
    "sizes = data['cardPresent'].value_counts()\n",
    "colors = [\"yellow\",\"red\"]\n",
    "explode = (0.1,0)\n",
    "\n",
    "plt.pie(sizes, explode = explode, labels=labels, colors=colors, autopct='%0.1f%%')\n",
    "plt.title(\"percent of card presents\")\n",
    "plt.show()"
   ]
  },
  {
   "cell_type": "markdown",
   "id": "988bf49b",
   "metadata": {},
   "source": [
    "sebesar 53.0% customer kebanyakan tidak hadir pada saat transaksi berlangsung"
   ]
  },
  {
   "cell_type": "code",
   "execution_count": 19,
   "id": "7ec80976",
   "metadata": {},
   "outputs": [
    {
     "data": {
      "text/plain": [
       "<AxesSubplot:xlabel='acqCountry', ylabel='count'>"
      ]
     },
     "execution_count": 19,
     "metadata": {},
     "output_type": "execute_result"
    },
    {
     "data": {
      "image/png": "[encoded data removed]",
      "text/plain": [
       "<Figure size 432x288 with 1 Axes>"
      ]
     },
     "metadata": {
      "needs_background": "light"
     },
     "output_type": "display_data"
    }
   ],
   "source": [
    "sns.countplot(x='acqCountry', hue='isFraud', data=data)"
   ]
  },
  {
   "cell_type": "code",
   "execution_count": 20,
   "id": "00be2ba8",
   "metadata": {},
   "outputs": [
    {
     "data": {
      "text/html": [
       "<div>\n",
       "<style scoped>\n",
       "    .dataframe tbody tr th:only-of-type {\n",
       "        vertical-align: middle;\n",
       "    }\n",
       "\n",
       "    .dataframe tbody tr th {\n",
       "        vertical-align: top;\n",
       "    }\n",
       "\n",
       "    .dataframe thead th {\n",
       "        text-align: right;\n",
       "    }\n",
       "</style>\n",
       "<table border=\"1\" class=\"dataframe\">\n",
       "  <thead>\n",
       "    <tr style=\"text-align: right;\">\n",
       "      <th>isFraud</th>\n",
       "      <th>False</th>\n",
       "      <th>True</th>\n",
       "    </tr>\n",
       "    <tr>\n",
       "      <th>acqCountry</th>\n",
       "      <th></th>\n",
       "      <th></th>\n",
       "    </tr>\n",
       "  </thead>\n",
       "  <tbody>\n",
       "    <tr>\n",
       "      <th>CAN</th>\n",
       "      <td>1820</td>\n",
       "      <td>50</td>\n",
       "    </tr>\n",
       "    <tr>\n",
       "      <th>MEX</th>\n",
       "      <td>2568</td>\n",
       "      <td>58</td>\n",
       "    </tr>\n",
       "    <tr>\n",
       "      <th>PR</th>\n",
       "      <td>1170</td>\n",
       "      <td>32</td>\n",
       "    </tr>\n",
       "    <tr>\n",
       "      <th>US</th>\n",
       "      <td>625054</td>\n",
       "      <td>11162</td>\n",
       "    </tr>\n",
       "  </tbody>\n",
       "</table>\n",
       "</div>"
      ],
      "text/plain": [
       "isFraud      False   True\n",
       "acqCountry               \n",
       "CAN           1820     50\n",
       "MEX           2568     58\n",
       "PR            1170     32\n",
       "US          625054  11162"
      ]
     },
     "execution_count": 20,
     "metadata": {},
     "output_type": "execute_result"
    }
   ],
   "source": [
    "table=pd.crosstab(data.acqCountry,data.isFraud)\n",
    "table"
   ]
  },
  {
   "cell_type": "markdown",
   "id": "c8c1d0d5",
   "metadata": {},
   "source": [
    "negara US memiliki tingkat fraud tinggi dengan jumlah transaksi sebesar 11162"
   ]
  },
  {
   "cell_type": "code",
   "execution_count": 21,
   "id": "3a0caf1d",
   "metadata": {},
   "outputs": [
    {
     "data": {
      "text/plain": [
       "<AxesSubplot:xlabel='posConditionCode', ylabel='count'>"
      ]
     },
     "execution_count": 21,
     "metadata": {},
     "output_type": "execute_result"
    },
    {
     "data": {
      "image/png": "[encoded data removed]",
      "text/plain": [
       "<Figure size 432x288 with 1 Axes>"
      ]
     },
     "metadata": {
      "needs_background": "light"
     },
     "output_type": "display_data"
    }
   ],
   "source": [
    "sns.countplot(x='posConditionCode', hue='isFraud', data=data)"
   ]
  },
  {
   "cell_type": "code",
   "execution_count": 22,
   "id": "cb9b1273",
   "metadata": {},
   "outputs": [
    {
     "data": {
      "text/html": [
       "<div>\n",
       "<style scoped>\n",
       "    .dataframe tbody tr th:only-of-type {\n",
       "        vertical-align: middle;\n",
       "    }\n",
       "\n",
       "    .dataframe tbody tr th {\n",
       "        vertical-align: top;\n",
       "    }\n",
       "\n",
       "    .dataframe thead th {\n",
       "        text-align: right;\n",
       "    }\n",
       "</style>\n",
       "<table border=\"1\" class=\"dataframe\">\n",
       "  <thead>\n",
       "    <tr style=\"text-align: right;\">\n",
       "      <th>isFraud</th>\n",
       "      <th>False</th>\n",
       "      <th>True</th>\n",
       "    </tr>\n",
       "    <tr>\n",
       "      <th>posConditionCode</th>\n",
       "      <th></th>\n",
       "      <th></th>\n",
       "    </tr>\n",
       "  </thead>\n",
       "  <tbody>\n",
       "    <tr>\n",
       "      <th>1.0</th>\n",
       "      <td>505035</td>\n",
       "      <td>9396</td>\n",
       "    </tr>\n",
       "    <tr>\n",
       "      <th>8.0</th>\n",
       "      <td>119821</td>\n",
       "      <td>1686</td>\n",
       "    </tr>\n",
       "    <tr>\n",
       "      <th>99.0</th>\n",
       "      <td>5756</td>\n",
       "      <td>220</td>\n",
       "    </tr>\n",
       "  </tbody>\n",
       "</table>\n",
       "</div>"
      ],
      "text/plain": [
       "isFraud            False  True\n",
       "posConditionCode              \n",
       "1.0               505035  9396\n",
       "8.0               119821  1686\n",
       "99.0                5756   220"
      ]
     },
     "execution_count": 22,
     "metadata": {},
     "output_type": "execute_result"
    }
   ],
   "source": [
    "table=pd.crosstab(data.posConditionCode,data.isFraud)\n",
    "table"
   ]
  },
  {
   "cell_type": "code",
   "execution_count": 23,
   "id": "e1f533b1",
   "metadata": {},
   "outputs": [
    {
     "data": {
      "text/plain": [
       "<AxesSubplot:xlabel='transactionType', ylabel='count'>"
      ]
     },
     "execution_count": 23,
     "metadata": {},
     "output_type": "execute_result"
    },
    {
     "data": {
      "image/png": "[encoded data removed]",
      "text/plain": [
       "<Figure size 432x288 with 1 Axes>"
      ]
     },
     "metadata": {
      "needs_background": "light"
     },
     "output_type": "display_data"
    }
   ],
   "source": [
    "sns.countplot(x='transactionType', hue='isFraud', data=data)"
   ]
  },
  {
   "cell_type": "code",
   "execution_count": 24,
   "id": "bab1734c",
   "metadata": {},
   "outputs": [
    {
     "data": {
      "text/html": [
       "<div>\n",
       "<style scoped>\n",
       "    .dataframe tbody tr th:only-of-type {\n",
       "        vertical-align: middle;\n",
       "    }\n",
       "\n",
       "    .dataframe tbody tr th {\n",
       "        vertical-align: top;\n",
       "    }\n",
       "\n",
       "    .dataframe thead th {\n",
       "        text-align: right;\n",
       "    }\n",
       "</style>\n",
       "<table border=\"1\" class=\"dataframe\">\n",
       "  <thead>\n",
       "    <tr style=\"text-align: right;\">\n",
       "      <th>isFraud</th>\n",
       "      <th>False</th>\n",
       "      <th>True</th>\n",
       "    </tr>\n",
       "    <tr>\n",
       "      <th>transactionType</th>\n",
       "      <th></th>\n",
       "      <th></th>\n",
       "    </tr>\n",
       "  </thead>\n",
       "  <tbody>\n",
       "    <tr>\n",
       "      <th>ADDRESS_VERIFICATION</th>\n",
       "      <td>16391</td>\n",
       "      <td>87</td>\n",
       "    </tr>\n",
       "    <tr>\n",
       "      <th>PURCHASE</th>\n",
       "      <td>598352</td>\n",
       "      <td>10922</td>\n",
       "    </tr>\n",
       "    <tr>\n",
       "      <th>REVERSAL</th>\n",
       "      <td>15869</td>\n",
       "      <td>293</td>\n",
       "    </tr>\n",
       "  </tbody>\n",
       "</table>\n",
       "</div>"
      ],
      "text/plain": [
       "isFraud                False   True\n",
       "transactionType                    \n",
       "ADDRESS_VERIFICATION   16391     87\n",
       "PURCHASE              598352  10922\n",
       "REVERSAL               15869    293"
      ]
     },
     "execution_count": 24,
     "metadata": {},
     "output_type": "execute_result"
    }
   ],
   "source": [
    "table=pd.crosstab(data.transactionType,data.isFraud)\n",
    "table"
   ]
  },
  {
   "cell_type": "markdown",
   "id": "6a02cd1e",
   "metadata": {},
   "source": [
    "tipe pembayaran purchase memiliki fraud yang lebih besar dengan nilai 10922 transaksi"
   ]
  },
  {
   "cell_type": "code",
   "execution_count": 25,
   "id": "69525fff",
   "metadata": {},
   "outputs": [
    {
     "data": {
      "image/png": "[encoded data removed]",
      "text/plain": [
       "<Figure size 432x288 with 1 Axes>"
      ]
     },
     "metadata": {
      "needs_background": "light"
     },
     "output_type": "display_data"
    }
   ],
   "source": [
    "g=sns.kdeplot(data[data['isFraud']==True]['transactionAmount'],shade=True)\n",
    "g=sns.kdeplot(data[data['isFraud']==False]['transactionAmount'], shade=True)\n",
    "g.set_xlabel('transaction amount')\n",
    "g.set_ylabel('frequency')\n",
    "plt.legend([True, False])\n",
    "plt.show()"
   ]
  },
  {
   "cell_type": "markdown",
   "id": "d68adb83",
   "metadata": {},
   "source": [
    "jumlah transaksi berkisar antara 250 - 750 rawan terjadinya fraud"
   ]
  },
  {
   "cell_type": "code",
   "execution_count": 30,
   "id": "3debc572",
   "metadata": {},
   "outputs": [
    {
     "data": {
      "image/png": "[encoded data removed]",
      "text/plain": [
       "<Figure size 432x288 with 1 Axes>"
      ]
     },
     "metadata": {
      "needs_background": "light"
     },
     "output_type": "display_data"
    }
   ],
   "source": [
    "g=sns.kdeplot(data[data['isFraud']==True]['availableMoney'],shade=True)\n",
    "g=sns.kdeplot(data[data['isFraud']==False]['availableMoney'], shade=True)\n",
    "g.set_xlabel('current limit credit')\n",
    "g.set_ylabel('frequency')\n",
    "plt.legend([True, False])\n",
    "plt.show()"
   ]
  },
  {
   "cell_type": "code",
   "execution_count": 31,
   "id": "0cdf379e",
   "metadata": {},
   "outputs": [
    {
     "data": {
      "image/png": "[encoded data removed]",
      "text/plain": [
       "<Figure size 432x288 with 1 Axes>"
      ]
     },
     "metadata": {
      "needs_background": "light"
     },
     "output_type": "display_data"
    }
   ],
   "source": [
    "g=sns.kdeplot(data[data['isFraud']==True]['currentBalance'],shade=True)\n",
    "g=sns.kdeplot(data[data['isFraud']==False]['currentBalance'], shade=True)\n",
    "g.set_xlabel('current billing')\n",
    "g.set_ylabel('frequency')\n",
    "plt.legend([True, False])\n",
    "plt.show()"
   ]
  },
  {
   "cell_type": "markdown",
   "id": "a09c355b",
   "metadata": {},
   "source": [
    "### Feature Engineering"
   ]
  },
  {
   "cell_type": "code",
   "execution_count": 16,
   "id": "7b4c259b",
   "metadata": {},
   "outputs": [
    {
     "data": {
      "text/html": [
       "<div>\n",
       "<style scoped>\n",
       "    .dataframe tbody tr th:only-of-type {\n",
       "        vertical-align: middle;\n",
       "    }\n",
       "\n",
       "    .dataframe tbody tr th {\n",
       "        vertical-align: top;\n",
       "    }\n",
       "\n",
       "    .dataframe thead th {\n",
       "        text-align: right;\n",
       "    }\n",
       "</style>\n",
       "<table border=\"1\" class=\"dataframe\">\n",
       "  <thead>\n",
       "    <tr style=\"text-align: right;\">\n",
       "      <th></th>\n",
       "      <th>accountNumber</th>\n",
       "      <th>customerId</th>\n",
       "      <th>creditLimit</th>\n",
       "      <th>availableMoney</th>\n",
       "      <th>transactionDateTime</th>\n",
       "      <th>transactionAmount</th>\n",
       "      <th>merchantName</th>\n",
       "      <th>acqCountry</th>\n",
       "      <th>merchantCountryCode</th>\n",
       "      <th>posEntryMode</th>\n",
       "      <th>...</th>\n",
       "      <th>accountOpenDate</th>\n",
       "      <th>dateOfLastAddressChange</th>\n",
       "      <th>cardCVV</th>\n",
       "      <th>enteredCVV</th>\n",
       "      <th>cardLast4Digits</th>\n",
       "      <th>transactionType</th>\n",
       "      <th>isFraud</th>\n",
       "      <th>currentBalance</th>\n",
       "      <th>cardPresent</th>\n",
       "      <th>expirationDateKeyInMatch</th>\n",
       "    </tr>\n",
       "  </thead>\n",
       "  <tbody>\n",
       "    <tr>\n",
       "      <th>0</th>\n",
       "      <td>733493772</td>\n",
       "      <td>733493772</td>\n",
       "      <td>5000.0</td>\n",
       "      <td>5000.0</td>\n",
       "      <td>2016-01-08 19:04:50</td>\n",
       "      <td>111.33</td>\n",
       "      <td>Lyft</td>\n",
       "      <td>US</td>\n",
       "      <td>US</td>\n",
       "      <td>5.0</td>\n",
       "      <td>...</td>\n",
       "      <td>2014-08-03</td>\n",
       "      <td>2014-08-03</td>\n",
       "      <td>492</td>\n",
       "      <td>492</td>\n",
       "      <td>9184</td>\n",
       "      <td>PURCHASE</td>\n",
       "      <td>True</td>\n",
       "      <td>0.0</td>\n",
       "      <td>False</td>\n",
       "      <td>False</td>\n",
       "    </tr>\n",
       "  </tbody>\n",
       "</table>\n",
       "<p>1 rows × 23 columns</p>\n",
       "</div>"
      ],
      "text/plain": [
       "   accountNumber  customerId  creditLimit  availableMoney transactionDateTime  \\\n",
       "0      733493772   733493772       5000.0          5000.0 2016-01-08 19:04:50   \n",
       "\n",
       "   transactionAmount merchantName acqCountry merchantCountryCode posEntryMode  \\\n",
       "0             111.33         Lyft         US                  US          5.0   \n",
       "\n",
       "   ... accountOpenDate dateOfLastAddressChange cardCVV enteredCVV  \\\n",
       "0  ...      2014-08-03              2014-08-03     492        492   \n",
       "\n",
       "  cardLast4Digits  transactionType  isFraud  currentBalance cardPresent  \\\n",
       "0            9184         PURCHASE     True             0.0       False   \n",
       "\n",
       "   expirationDateKeyInMatch  \n",
       "0                     False  \n",
       "\n",
       "[1 rows x 23 columns]"
      ]
     },
     "execution_count": 16,
     "metadata": {},
     "output_type": "execute_result"
    }
   ],
   "source": [
    "tmp_data = data\n",
    "tmp_data.head(1)"
   ]
  },
  {
   "cell_type": "code",
   "execution_count": 17,
   "id": "ac66a2b7",
   "metadata": {},
   "outputs": [
    {
     "name": "stdout",
     "output_type": "stream",
     "text": [
      "<class 'pandas.core.frame.DataFrame'>\n",
      "RangeIndex: 641914 entries, 0 to 641913\n",
      "Data columns (total 23 columns):\n",
      " #   Column                    Non-Null Count   Dtype         \n",
      "---  ------                    --------------   -----         \n",
      " 0   accountNumber             641914 non-null  int64         \n",
      " 1   customerId                641914 non-null  int64         \n",
      " 2   creditLimit               641914 non-null  float64       \n",
      " 3   availableMoney            641914 non-null  float64       \n",
      " 4   transactionDateTime       641914 non-null  datetime64[ns]\n",
      " 5   transactionAmount         641914 non-null  float64       \n",
      " 6   merchantName              641914 non-null  object        \n",
      " 7   acqCountry                641914 non-null  object        \n",
      " 8   merchantCountryCode       641914 non-null  object        \n",
      " 9   posEntryMode              641914 non-null  object        \n",
      " 10  posConditionCode          641914 non-null  object        \n",
      " 11  merchantCategoryCode      641914 non-null  object        \n",
      " 12  currentExpDate            641914 non-null  datetime64[ns]\n",
      " 13  accountOpenDate           641914 non-null  datetime64[ns]\n",
      " 14  dateOfLastAddressChange   641914 non-null  datetime64[ns]\n",
      " 15  cardCVV                   641914 non-null  int64         \n",
      " 16  enteredCVV                641914 non-null  int64         \n",
      " 17  cardLast4Digits           641914 non-null  int64         \n",
      " 18  transactionType           641914 non-null  object        \n",
      " 19  isFraud                   641914 non-null  bool          \n",
      " 20  currentBalance            641914 non-null  float64       \n",
      " 21  cardPresent               641914 non-null  bool          \n",
      " 22  expirationDateKeyInMatch  641914 non-null  bool          \n",
      "dtypes: bool(3), datetime64[ns](4), float64(4), int64(5), object(7)\n",
      "memory usage: 99.8+ MB\n"
     ]
    }
   ],
   "source": [
    "tmp_data.info()"
   ]
  },
  {
   "cell_type": "code",
   "execution_count": 18,
   "id": "aa824a16",
   "metadata": {},
   "outputs": [
    {
     "data": {
      "text/plain": [
       "0        -523.795023\n",
       "1        -524.939340\n",
       "2        -526.567303\n",
       "3        -526.949838\n",
       "4        -531.070266\n",
       "             ...    \n",
       "641909   -396.520382\n",
       "641910   -401.180961\n",
       "641911   -408.332211\n",
       "641912   -411.104572\n",
       "641913   -420.468218\n",
       "Name: DaysSinceLastAdressChange, Length: 641914, dtype: float64"
      ]
     },
     "execution_count": 18,
     "metadata": {},
     "output_type": "execute_result"
    }
   ],
   "source": [
    "#mengkalkulasi kolom 'dateoflastadresschange' dan 'transactiondatetime'\n",
    "tmp_data['DaysSinceLastAdressChange'] = tmp_data['dateOfLastAddressChange'] - tmp_data['transactionDateTime']\n",
    "tmp_data['DaysSinceLastAdressChange'] = tmp_data['DaysSinceLastAdressChange'] / np.timedelta64(1, 'D')\n",
    "tmp_data['DaysSinceLastAdressChange']"
   ]
  },
  {
   "cell_type": "code",
   "execution_count": 19,
   "id": "60c3b9e0",
   "metadata": {},
   "outputs": [
    {
     "data": {
      "text/html": [
       "<div>\n",
       "<style scoped>\n",
       "    .dataframe tbody tr th:only-of-type {\n",
       "        vertical-align: middle;\n",
       "    }\n",
       "\n",
       "    .dataframe tbody tr th {\n",
       "        vertical-align: top;\n",
       "    }\n",
       "\n",
       "    .dataframe thead th {\n",
       "        text-align: right;\n",
       "    }\n",
       "</style>\n",
       "<table border=\"1\" class=\"dataframe\">\n",
       "  <thead>\n",
       "    <tr style=\"text-align: right;\">\n",
       "      <th></th>\n",
       "      <th>accountNumber</th>\n",
       "      <th>customerId</th>\n",
       "      <th>creditLimit</th>\n",
       "      <th>availableMoney</th>\n",
       "      <th>transactionDateTime</th>\n",
       "      <th>transactionAmount</th>\n",
       "      <th>merchantName</th>\n",
       "      <th>acqCountry</th>\n",
       "      <th>merchantCountryCode</th>\n",
       "      <th>posEntryMode</th>\n",
       "      <th>...</th>\n",
       "      <th>dateOfLastAddressChange</th>\n",
       "      <th>cardCVV</th>\n",
       "      <th>enteredCVV</th>\n",
       "      <th>cardLast4Digits</th>\n",
       "      <th>transactionType</th>\n",
       "      <th>isFraud</th>\n",
       "      <th>currentBalance</th>\n",
       "      <th>cardPresent</th>\n",
       "      <th>expirationDateKeyInMatch</th>\n",
       "      <th>DaysSinceLastAdressChange</th>\n",
       "    </tr>\n",
       "  </thead>\n",
       "  <tbody>\n",
       "    <tr>\n",
       "      <th>0</th>\n",
       "      <td>733493772</td>\n",
       "      <td>733493772</td>\n",
       "      <td>5000.0</td>\n",
       "      <td>5000.0</td>\n",
       "      <td>2016-01-08 19:04:50</td>\n",
       "      <td>111.33</td>\n",
       "      <td>Lyft</td>\n",
       "      <td>US</td>\n",
       "      <td>US</td>\n",
       "      <td>5.0</td>\n",
       "      <td>...</td>\n",
       "      <td>2014-08-03</td>\n",
       "      <td>492</td>\n",
       "      <td>492</td>\n",
       "      <td>9184</td>\n",
       "      <td>PURCHASE</td>\n",
       "      <td>True</td>\n",
       "      <td>0.0</td>\n",
       "      <td>False</td>\n",
       "      <td>False</td>\n",
       "      <td>-523.795023</td>\n",
       "    </tr>\n",
       "  </tbody>\n",
       "</table>\n",
       "<p>1 rows × 24 columns</p>\n",
       "</div>"
      ],
      "text/plain": [
       "   accountNumber  customerId  creditLimit  availableMoney transactionDateTime  \\\n",
       "0      733493772   733493772       5000.0          5000.0 2016-01-08 19:04:50   \n",
       "\n",
       "   transactionAmount merchantName acqCountry merchantCountryCode posEntryMode  \\\n",
       "0             111.33         Lyft         US                  US          5.0   \n",
       "\n",
       "   ... dateOfLastAddressChange cardCVV enteredCVV cardLast4Digits  \\\n",
       "0  ...              2014-08-03     492        492            9184   \n",
       "\n",
       "  transactionType  isFraud  currentBalance  cardPresent  \\\n",
       "0        PURCHASE     True             0.0        False   \n",
       "\n",
       "  expirationDateKeyInMatch  DaysSinceLastAdressChange  \n",
       "0                    False                -523.795023  \n",
       "\n",
       "[1 rows x 24 columns]"
      ]
     },
     "execution_count": 19,
     "metadata": {},
     "output_type": "execute_result"
    }
   ],
   "source": [
    "tmp_data.head(1)"
   ]
  },
  {
   "cell_type": "code",
   "execution_count": 20,
   "id": "66e5ee6b",
   "metadata": {},
   "outputs": [
    {
     "data": {
      "text/plain": [
       "-1.0824074074074075"
      ]
     },
     "execution_count": 20,
     "metadata": {},
     "output_type": "execute_result"
    }
   ],
   "source": [
    "tmp_data['DaysSinceLastAdressChange'].max()"
   ]
  },
  {
   "cell_type": "code",
   "execution_count": 21,
   "id": "4d93ccc1",
   "metadata": {},
   "outputs": [
    {
     "data": {
      "text/plain": [
       "0          1544.204977\n",
       "1          2699.060660\n",
       "2          4341.432697\n",
       "3          4981.050162\n",
       "4          3180.929734\n",
       "              ...     \n",
       "641909   -31749.520382\n",
       "641910     3429.819039\n",
       "641911     1018.667789\n",
       "641912     4699.895428\n",
       "641913     3137.531782\n",
       "Name: daysToExpiration, Length: 641914, dtype: float64"
      ]
     },
     "execution_count": 21,
     "metadata": {},
     "output_type": "execute_result"
    }
   ],
   "source": [
    "#menjumlahkan kolom 'expiredDate' dengan 'transactionTime'\n",
    "tmp_data['daysToExpiration'] = tmp_data['currentExpDate'] - tmp_data['transactionDateTime']\n",
    "tmp_data['daysToExpiration'] = tmp_data['daysToExpiration'] / np.timedelta64(1, 'D')\n",
    "tmp_data['daysToExpiration']"
   ]
  },
  {
   "cell_type": "code",
   "execution_count": 22,
   "id": "894c4923",
   "metadata": {},
   "outputs": [
    {
     "data": {
      "text/html": [
       "<div>\n",
       "<style scoped>\n",
       "    .dataframe tbody tr th:only-of-type {\n",
       "        vertical-align: middle;\n",
       "    }\n",
       "\n",
       "    .dataframe tbody tr th {\n",
       "        vertical-align: top;\n",
       "    }\n",
       "\n",
       "    .dataframe thead th {\n",
       "        text-align: right;\n",
       "    }\n",
       "</style>\n",
       "<table border=\"1\" class=\"dataframe\">\n",
       "  <thead>\n",
       "    <tr style=\"text-align: right;\">\n",
       "      <th></th>\n",
       "      <th>accountNumber</th>\n",
       "      <th>customerId</th>\n",
       "      <th>creditLimit</th>\n",
       "      <th>availableMoney</th>\n",
       "      <th>transactionDateTime</th>\n",
       "      <th>transactionAmount</th>\n",
       "      <th>merchantName</th>\n",
       "      <th>acqCountry</th>\n",
       "      <th>merchantCountryCode</th>\n",
       "      <th>posEntryMode</th>\n",
       "      <th>...</th>\n",
       "      <th>cardCVV</th>\n",
       "      <th>enteredCVV</th>\n",
       "      <th>cardLast4Digits</th>\n",
       "      <th>transactionType</th>\n",
       "      <th>isFraud</th>\n",
       "      <th>currentBalance</th>\n",
       "      <th>cardPresent</th>\n",
       "      <th>expirationDateKeyInMatch</th>\n",
       "      <th>DaysSinceLastAdressChange</th>\n",
       "      <th>daysToExpiration</th>\n",
       "    </tr>\n",
       "  </thead>\n",
       "  <tbody>\n",
       "    <tr>\n",
       "      <th>0</th>\n",
       "      <td>733493772</td>\n",
       "      <td>733493772</td>\n",
       "      <td>5000.0</td>\n",
       "      <td>5000.0</td>\n",
       "      <td>2016-01-08 19:04:50</td>\n",
       "      <td>111.33</td>\n",
       "      <td>Lyft</td>\n",
       "      <td>US</td>\n",
       "      <td>US</td>\n",
       "      <td>5.0</td>\n",
       "      <td>...</td>\n",
       "      <td>492</td>\n",
       "      <td>492</td>\n",
       "      <td>9184</td>\n",
       "      <td>PURCHASE</td>\n",
       "      <td>True</td>\n",
       "      <td>0.0</td>\n",
       "      <td>False</td>\n",
       "      <td>False</td>\n",
       "      <td>-523.795023</td>\n",
       "      <td>1544.204977</td>\n",
       "    </tr>\n",
       "  </tbody>\n",
       "</table>\n",
       "<p>1 rows × 25 columns</p>\n",
       "</div>"
      ],
      "text/plain": [
       "   accountNumber  customerId  creditLimit  availableMoney transactionDateTime  \\\n",
       "0      733493772   733493772       5000.0          5000.0 2016-01-08 19:04:50   \n",
       "\n",
       "   transactionAmount merchantName acqCountry merchantCountryCode posEntryMode  \\\n",
       "0             111.33         Lyft         US                  US          5.0   \n",
       "\n",
       "   ... cardCVV enteredCVV cardLast4Digits transactionType isFraud  \\\n",
       "0  ...     492        492            9184        PURCHASE    True   \n",
       "\n",
       "   currentBalance  cardPresent  expirationDateKeyInMatch  \\\n",
       "0             0.0        False                     False   \n",
       "\n",
       "  DaysSinceLastAdressChange  daysToExpiration  \n",
       "0               -523.795023       1544.204977  \n",
       "\n",
       "[1 rows x 25 columns]"
      ]
     },
     "execution_count": 22,
     "metadata": {},
     "output_type": "execute_result"
    }
   ],
   "source": [
    "tmp_data.head(1)"
   ]
  },
  {
   "cell_type": "code",
   "execution_count": 23,
   "id": "ccbe8905",
   "metadata": {},
   "outputs": [
    {
     "data": {
      "text/html": [
       "<div>\n",
       "<style scoped>\n",
       "    .dataframe tbody tr th:only-of-type {\n",
       "        vertical-align: middle;\n",
       "    }\n",
       "\n",
       "    .dataframe tbody tr th {\n",
       "        vertical-align: top;\n",
       "    }\n",
       "\n",
       "    .dataframe thead th {\n",
       "        text-align: right;\n",
       "    }\n",
       "</style>\n",
       "<table border=\"1\" class=\"dataframe\">\n",
       "  <thead>\n",
       "    <tr style=\"text-align: right;\">\n",
       "      <th></th>\n",
       "      <th>accountNumber</th>\n",
       "      <th>customerId</th>\n",
       "      <th>creditLimit</th>\n",
       "      <th>availableMoney</th>\n",
       "      <th>transactionDateTime</th>\n",
       "      <th>transactionAmount</th>\n",
       "      <th>merchantName</th>\n",
       "      <th>acqCountry</th>\n",
       "      <th>merchantCountryCode</th>\n",
       "      <th>posEntryMode</th>\n",
       "      <th>...</th>\n",
       "      <th>cardCVV</th>\n",
       "      <th>enteredCVV</th>\n",
       "      <th>cardLast4Digits</th>\n",
       "      <th>transactionType</th>\n",
       "      <th>isFraud</th>\n",
       "      <th>currentBalance</th>\n",
       "      <th>cardPresent</th>\n",
       "      <th>expirationDateKeyInMatch</th>\n",
       "      <th>DaysSinceLastAdressChange</th>\n",
       "      <th>daysToExpiration</th>\n",
       "    </tr>\n",
       "  </thead>\n",
       "  <tbody>\n",
       "    <tr>\n",
       "      <th>7</th>\n",
       "      <td>733493772</td>\n",
       "      <td>733493772</td>\n",
       "      <td>5000.0</td>\n",
       "      <td>4191.39</td>\n",
       "      <td>2016-01-26 05:28:24</td>\n",
       "      <td>0.00</td>\n",
       "      <td>Universe Massage #95463</td>\n",
       "      <td>US</td>\n",
       "      <td>US</td>\n",
       "      <td>5.0</td>\n",
       "      <td>...</td>\n",
       "      <td>492</td>\n",
       "      <td>492</td>\n",
       "      <td>9184</td>\n",
       "      <td>ADDRESS_VERIFICATION</td>\n",
       "      <td>False</td>\n",
       "      <td>808.61</td>\n",
       "      <td>False</td>\n",
       "      <td>False</td>\n",
       "      <td>-541.228056</td>\n",
       "      <td>-30737.228056</td>\n",
       "    </tr>\n",
       "    <tr>\n",
       "      <th>11</th>\n",
       "      <td>733493772</td>\n",
       "      <td>733493772</td>\n",
       "      <td>5000.0</td>\n",
       "      <td>4137.75</td>\n",
       "      <td>2016-02-04 23:25:31</td>\n",
       "      <td>260.63</td>\n",
       "      <td>Uber</td>\n",
       "      <td>US</td>\n",
       "      <td>US</td>\n",
       "      <td>5.0</td>\n",
       "      <td>...</td>\n",
       "      <td>492</td>\n",
       "      <td>492</td>\n",
       "      <td>9184</td>\n",
       "      <td>PURCHASE</td>\n",
       "      <td>False</td>\n",
       "      <td>862.25</td>\n",
       "      <td>False</td>\n",
       "      <td>False</td>\n",
       "      <td>-550.976053</td>\n",
       "      <td>-31202.976053</td>\n",
       "    </tr>\n",
       "    <tr>\n",
       "      <th>15</th>\n",
       "      <td>733493772</td>\n",
       "      <td>733493772</td>\n",
       "      <td>5000.0</td>\n",
       "      <td>3741.64</td>\n",
       "      <td>2016-02-13 18:18:53</td>\n",
       "      <td>36.04</td>\n",
       "      <td>Uber</td>\n",
       "      <td>US</td>\n",
       "      <td>US</td>\n",
       "      <td>9.0</td>\n",
       "      <td>...</td>\n",
       "      <td>492</td>\n",
       "      <td>492</td>\n",
       "      <td>9184</td>\n",
       "      <td>PURCHASE</td>\n",
       "      <td>False</td>\n",
       "      <td>1258.36</td>\n",
       "      <td>False</td>\n",
       "      <td>False</td>\n",
       "      <td>-559.763113</td>\n",
       "      <td>-30846.763113</td>\n",
       "    </tr>\n",
       "    <tr>\n",
       "      <th>24</th>\n",
       "      <td>733493772</td>\n",
       "      <td>733493772</td>\n",
       "      <td>5000.0</td>\n",
       "      <td>3461.35</td>\n",
       "      <td>2016-02-26 16:49:35</td>\n",
       "      <td>239.69</td>\n",
       "      <td>Quizno's #353204</td>\n",
       "      <td>US</td>\n",
       "      <td>US</td>\n",
       "      <td>5.0</td>\n",
       "      <td>...</td>\n",
       "      <td>492</td>\n",
       "      <td>492</td>\n",
       "      <td>9184</td>\n",
       "      <td>PURCHASE</td>\n",
       "      <td>False</td>\n",
       "      <td>1538.65</td>\n",
       "      <td>True</td>\n",
       "      <td>False</td>\n",
       "      <td>-572.701100</td>\n",
       "      <td>-31133.701100</td>\n",
       "    </tr>\n",
       "    <tr>\n",
       "      <th>26</th>\n",
       "      <td>733493772</td>\n",
       "      <td>733493772</td>\n",
       "      <td>5000.0</td>\n",
       "      <td>3232.00</td>\n",
       "      <td>2016-03-04 04:42:44</td>\n",
       "      <td>105.66</td>\n",
       "      <td>Fresh Online Services</td>\n",
       "      <td>US</td>\n",
       "      <td>US</td>\n",
       "      <td>9.0</td>\n",
       "      <td>...</td>\n",
       "      <td>492</td>\n",
       "      <td>492</td>\n",
       "      <td>9184</td>\n",
       "      <td>PURCHASE</td>\n",
       "      <td>False</td>\n",
       "      <td>1768.00</td>\n",
       "      <td>False</td>\n",
       "      <td>False</td>\n",
       "      <td>-579.196343</td>\n",
       "      <td>-31140.196343</td>\n",
       "    </tr>\n",
       "    <tr>\n",
       "      <th>...</th>\n",
       "      <td>...</td>\n",
       "      <td>...</td>\n",
       "      <td>...</td>\n",
       "      <td>...</td>\n",
       "      <td>...</td>\n",
       "      <td>...</td>\n",
       "      <td>...</td>\n",
       "      <td>...</td>\n",
       "      <td>...</td>\n",
       "      <td>...</td>\n",
       "      <td>...</td>\n",
       "      <td>...</td>\n",
       "      <td>...</td>\n",
       "      <td>...</td>\n",
       "      <td>...</td>\n",
       "      <td>...</td>\n",
       "      <td>...</td>\n",
       "      <td>...</td>\n",
       "      <td>...</td>\n",
       "      <td>...</td>\n",
       "      <td>...</td>\n",
       "    </tr>\n",
       "    <tr>\n",
       "      <th>641893</th>\n",
       "      <td>186770399</td>\n",
       "      <td>186770399</td>\n",
       "      <td>7500.0</td>\n",
       "      <td>4392.39</td>\n",
       "      <td>2016-09-10 12:37:13</td>\n",
       "      <td>31.12</td>\n",
       "      <td>Blue Mountain eCards</td>\n",
       "      <td>US</td>\n",
       "      <td>US</td>\n",
       "      <td>9.0</td>\n",
       "      <td>...</td>\n",
       "      <td>127</td>\n",
       "      <td>127</td>\n",
       "      <td>5432</td>\n",
       "      <td>PURCHASE</td>\n",
       "      <td>False</td>\n",
       "      <td>3107.61</td>\n",
       "      <td>False</td>\n",
       "      <td>False</td>\n",
       "      <td>-311.525845</td>\n",
       "      <td>-31179.525845</td>\n",
       "    </tr>\n",
       "    <tr>\n",
       "      <th>641898</th>\n",
       "      <td>186770399</td>\n",
       "      <td>186770399</td>\n",
       "      <td>7500.0</td>\n",
       "      <td>4162.50</td>\n",
       "      <td>2016-10-05 00:15:34</td>\n",
       "      <td>5.37</td>\n",
       "      <td>Apple iTunes</td>\n",
       "      <td>US</td>\n",
       "      <td>US</td>\n",
       "      <td>5.0</td>\n",
       "      <td>...</td>\n",
       "      <td>127</td>\n",
       "      <td>127</td>\n",
       "      <td>5432</td>\n",
       "      <td>PURCHASE</td>\n",
       "      <td>False</td>\n",
       "      <td>3337.50</td>\n",
       "      <td>False</td>\n",
       "      <td>False</td>\n",
       "      <td>-336.010810</td>\n",
       "      <td>-31689.010810</td>\n",
       "    </tr>\n",
       "    <tr>\n",
       "      <th>641904</th>\n",
       "      <td>186770399</td>\n",
       "      <td>186770399</td>\n",
       "      <td>7500.0</td>\n",
       "      <td>3619.56</td>\n",
       "      <td>2016-11-04 01:33:34</td>\n",
       "      <td>5.37</td>\n",
       "      <td>Apple iTunes</td>\n",
       "      <td>US</td>\n",
       "      <td>US</td>\n",
       "      <td>5.0</td>\n",
       "      <td>...</td>\n",
       "      <td>127</td>\n",
       "      <td>127</td>\n",
       "      <td>5432</td>\n",
       "      <td>PURCHASE</td>\n",
       "      <td>False</td>\n",
       "      <td>3880.44</td>\n",
       "      <td>False</td>\n",
       "      <td>False</td>\n",
       "      <td>-366.064977</td>\n",
       "      <td>-31719.064977</td>\n",
       "    </tr>\n",
       "    <tr>\n",
       "      <th>641905</th>\n",
       "      <td>186770399</td>\n",
       "      <td>186770399</td>\n",
       "      <td>7500.0</td>\n",
       "      <td>3614.19</td>\n",
       "      <td>2016-11-07 20:48:59</td>\n",
       "      <td>147.97</td>\n",
       "      <td>Blue Mountain Online Services</td>\n",
       "      <td>US</td>\n",
       "      <td>US</td>\n",
       "      <td>2.0</td>\n",
       "      <td>...</td>\n",
       "      <td>127</td>\n",
       "      <td>127</td>\n",
       "      <td>5432</td>\n",
       "      <td>PURCHASE</td>\n",
       "      <td>False</td>\n",
       "      <td>3885.81</td>\n",
       "      <td>False</td>\n",
       "      <td>False</td>\n",
       "      <td>-369.867350</td>\n",
       "      <td>-31602.867350</td>\n",
       "    </tr>\n",
       "    <tr>\n",
       "      <th>641909</th>\n",
       "      <td>186770399</td>\n",
       "      <td>186770399</td>\n",
       "      <td>7500.0</td>\n",
       "      <td>2574.02</td>\n",
       "      <td>2016-12-04 12:29:21</td>\n",
       "      <td>5.37</td>\n",
       "      <td>Apple iTunes</td>\n",
       "      <td>US</td>\n",
       "      <td>US</td>\n",
       "      <td>5.0</td>\n",
       "      <td>...</td>\n",
       "      <td>127</td>\n",
       "      <td>127</td>\n",
       "      <td>5432</td>\n",
       "      <td>PURCHASE</td>\n",
       "      <td>False</td>\n",
       "      <td>4925.98</td>\n",
       "      <td>False</td>\n",
       "      <td>False</td>\n",
       "      <td>-396.520382</td>\n",
       "      <td>-31749.520382</td>\n",
       "    </tr>\n",
       "  </tbody>\n",
       "</table>\n",
       "<p>97720 rows × 25 columns</p>\n",
       "</div>"
      ],
      "text/plain": [
       "        accountNumber  customerId  creditLimit  availableMoney  \\\n",
       "7           733493772   733493772       5000.0         4191.39   \n",
       "11          733493772   733493772       5000.0         4137.75   \n",
       "15          733493772   733493772       5000.0         3741.64   \n",
       "24          733493772   733493772       5000.0         3461.35   \n",
       "26          733493772   733493772       5000.0         3232.00   \n",
       "...               ...         ...          ...             ...   \n",
       "641893      186770399   186770399       7500.0         4392.39   \n",
       "641898      186770399   186770399       7500.0         4162.50   \n",
       "641904      186770399   186770399       7500.0         3619.56   \n",
       "641905      186770399   186770399       7500.0         3614.19   \n",
       "641909      186770399   186770399       7500.0         2574.02   \n",
       "\n",
       "       transactionDateTime  transactionAmount                   merchantName  \\\n",
       "7      2016-01-26 05:28:24               0.00        Universe Massage #95463   \n",
       "11     2016-02-04 23:25:31             260.63                           Uber   \n",
       "15     2016-02-13 18:18:53              36.04                           Uber   \n",
       "24     2016-02-26 16:49:35             239.69               Quizno's #353204   \n",
       "26     2016-03-04 04:42:44             105.66          Fresh Online Services   \n",
       "...                    ...                ...                            ...   \n",
       "641893 2016-09-10 12:37:13              31.12           Blue Mountain eCards   \n",
       "641898 2016-10-05 00:15:34               5.37                   Apple iTunes   \n",
       "641904 2016-11-04 01:33:34               5.37                   Apple iTunes   \n",
       "641905 2016-11-07 20:48:59             147.97  Blue Mountain Online Services   \n",
       "641909 2016-12-04 12:29:21               5.37                   Apple iTunes   \n",
       "\n",
       "       acqCountry merchantCountryCode posEntryMode  ... cardCVV enteredCVV  \\\n",
       "7              US                  US          5.0  ...     492        492   \n",
       "11             US                  US          5.0  ...     492        492   \n",
       "15             US                  US          9.0  ...     492        492   \n",
       "24             US                  US          5.0  ...     492        492   \n",
       "26             US                  US          9.0  ...     492        492   \n",
       "...           ...                 ...          ...  ...     ...        ...   \n",
       "641893         US                  US          9.0  ...     127        127   \n",
       "641898         US                  US          5.0  ...     127        127   \n",
       "641904         US                  US          5.0  ...     127        127   \n",
       "641905         US                  US          2.0  ...     127        127   \n",
       "641909         US                  US          5.0  ...     127        127   \n",
       "\n",
       "       cardLast4Digits       transactionType isFraud  currentBalance  \\\n",
       "7                 9184  ADDRESS_VERIFICATION   False          808.61   \n",
       "11                9184              PURCHASE   False          862.25   \n",
       "15                9184              PURCHASE   False         1258.36   \n",
       "24                9184              PURCHASE   False         1538.65   \n",
       "26                9184              PURCHASE   False         1768.00   \n",
       "...                ...                   ...     ...             ...   \n",
       "641893            5432              PURCHASE   False         3107.61   \n",
       "641898            5432              PURCHASE   False         3337.50   \n",
       "641904            5432              PURCHASE   False         3880.44   \n",
       "641905            5432              PURCHASE   False         3885.81   \n",
       "641909            5432              PURCHASE   False         4925.98   \n",
       "\n",
       "        cardPresent  expirationDateKeyInMatch DaysSinceLastAdressChange  \\\n",
       "7             False                     False               -541.228056   \n",
       "11            False                     False               -550.976053   \n",
       "15            False                     False               -559.763113   \n",
       "24             True                     False               -572.701100   \n",
       "26            False                     False               -579.196343   \n",
       "...             ...                       ...                       ...   \n",
       "641893        False                     False               -311.525845   \n",
       "641898        False                     False               -336.010810   \n",
       "641904        False                     False               -366.064977   \n",
       "641905        False                     False               -369.867350   \n",
       "641909        False                     False               -396.520382   \n",
       "\n",
       "        daysToExpiration  \n",
       "7          -30737.228056  \n",
       "11         -31202.976053  \n",
       "15         -30846.763113  \n",
       "24         -31133.701100  \n",
       "26         -31140.196343  \n",
       "...                  ...  \n",
       "641893     -31179.525845  \n",
       "641898     -31689.010810  \n",
       "641904     -31719.064977  \n",
       "641905     -31602.867350  \n",
       "641909     -31749.520382  \n",
       "\n",
       "[97720 rows x 25 columns]"
      ]
     },
     "execution_count": 23,
     "metadata": {},
     "output_type": "execute_result"
    }
   ],
   "source": [
    "tmp_data[tmp_data['daysToExpiration'] < 0]"
   ]
  },
  {
   "cell_type": "markdown",
   "id": "2a091bca",
   "metadata": {},
   "source": [
    "ada 97720 recording data dimana proses transaksi dilakukan setelah credit card mengalami expired"
   ]
  },
  {
   "cell_type": "code",
   "execution_count": 24,
   "id": "4a55980a",
   "metadata": {},
   "outputs": [],
   "source": [
    "#mengekstrak hour,day,month,year dari kolom transactiondatetime\n",
    "tmp_data['year'] = tmp_data['transactionDateTime'].apply(lambda x:pd.to_datetime(x).year)\n",
    "tmp_data['month'] = tmp_data['transactionDateTime'].apply(lambda x:pd.to_datetime(x).month)\n",
    "tmp_data['day'] = tmp_data['transactionDateTime'].apply(lambda x:pd.to_datetime(x).day)"
   ]
  },
  {
   "cell_type": "code",
   "execution_count": 25,
   "id": "263e1c6e",
   "metadata": {},
   "outputs": [],
   "source": [
    "#membuat kolom baru MatchCVV yang berisi, jika cardCVV == enteredCVV maka bernilai true\n",
    "tmp_data['MatchCVV'] = tmp_data.apply(lambda row:True if row['cardCVV'] == row['enteredCVV'] else False, axis=1)"
   ]
  },
  {
   "cell_type": "code",
   "execution_count": 26,
   "id": "3fcf16de",
   "metadata": {},
   "outputs": [
    {
     "data": {
      "text/html": [
       "<div>\n",
       "<style scoped>\n",
       "    .dataframe tbody tr th:only-of-type {\n",
       "        vertical-align: middle;\n",
       "    }\n",
       "\n",
       "    .dataframe tbody tr th {\n",
       "        vertical-align: top;\n",
       "    }\n",
       "\n",
       "    .dataframe thead th {\n",
       "        text-align: right;\n",
       "    }\n",
       "</style>\n",
       "<table border=\"1\" class=\"dataframe\">\n",
       "  <thead>\n",
       "    <tr style=\"text-align: right;\">\n",
       "      <th></th>\n",
       "      <th>accountNumber</th>\n",
       "      <th>customerId</th>\n",
       "      <th>creditLimit</th>\n",
       "      <th>availableMoney</th>\n",
       "      <th>transactionDateTime</th>\n",
       "      <th>transactionAmount</th>\n",
       "      <th>merchantName</th>\n",
       "      <th>acqCountry</th>\n",
       "      <th>merchantCountryCode</th>\n",
       "      <th>posEntryMode</th>\n",
       "      <th>...</th>\n",
       "      <th>isFraud</th>\n",
       "      <th>currentBalance</th>\n",
       "      <th>cardPresent</th>\n",
       "      <th>expirationDateKeyInMatch</th>\n",
       "      <th>DaysSinceLastAdressChange</th>\n",
       "      <th>daysToExpiration</th>\n",
       "      <th>year</th>\n",
       "      <th>month</th>\n",
       "      <th>day</th>\n",
       "      <th>MatchCVV</th>\n",
       "    </tr>\n",
       "  </thead>\n",
       "  <tbody>\n",
       "    <tr>\n",
       "      <th>0</th>\n",
       "      <td>733493772</td>\n",
       "      <td>733493772</td>\n",
       "      <td>5000.0</td>\n",
       "      <td>5000.0</td>\n",
       "      <td>2016-01-08 19:04:50</td>\n",
       "      <td>111.33</td>\n",
       "      <td>Lyft</td>\n",
       "      <td>US</td>\n",
       "      <td>US</td>\n",
       "      <td>5.0</td>\n",
       "      <td>...</td>\n",
       "      <td>True</td>\n",
       "      <td>0.0</td>\n",
       "      <td>False</td>\n",
       "      <td>False</td>\n",
       "      <td>-523.795023</td>\n",
       "      <td>1544.204977</td>\n",
       "      <td>2016</td>\n",
       "      <td>1</td>\n",
       "      <td>8</td>\n",
       "      <td>True</td>\n",
       "    </tr>\n",
       "  </tbody>\n",
       "</table>\n",
       "<p>1 rows × 29 columns</p>\n",
       "</div>"
      ],
      "text/plain": [
       "   accountNumber  customerId  creditLimit  availableMoney transactionDateTime  \\\n",
       "0      733493772   733493772       5000.0          5000.0 2016-01-08 19:04:50   \n",
       "\n",
       "   transactionAmount merchantName acqCountry merchantCountryCode posEntryMode  \\\n",
       "0             111.33         Lyft         US                  US          5.0   \n",
       "\n",
       "   ... isFraud currentBalance cardPresent expirationDateKeyInMatch  \\\n",
       "0  ...    True            0.0       False                    False   \n",
       "\n",
       "  DaysSinceLastAdressChange  daysToExpiration  year  month day  MatchCVV  \n",
       "0               -523.795023       1544.204977  2016      1   8      True  \n",
       "\n",
       "[1 rows x 29 columns]"
      ]
     },
     "execution_count": 26,
     "metadata": {},
     "output_type": "execute_result"
    }
   ],
   "source": [
    "tmp_data.head(1)"
   ]
  },
  {
   "cell_type": "code",
   "execution_count": 27,
   "id": "a62bca16",
   "metadata": {},
   "outputs": [
    {
     "data": {
      "text/plain": [
       "True     635977\n",
       "False      5937\n",
       "Name: MatchCVV, dtype: int64"
      ]
     },
     "execution_count": 27,
     "metadata": {},
     "output_type": "execute_result"
    }
   ],
   "source": [
    "tmp_data['MatchCVV'].value_counts()"
   ]
  },
  {
   "cell_type": "markdown",
   "id": "334a545d",
   "metadata": {},
   "source": [
    "ada 5937 recording data dimana saat transaksi terjadi, ada perbedaan nilai CVV pada credit card"
   ]
  },
  {
   "cell_type": "code",
   "execution_count": 28,
   "id": "1f1433fc",
   "metadata": {},
   "outputs": [
    {
     "data": {
      "image/png": "[encoded data removed]",
      "text/plain": [
       "<Figure size 432x288 with 1 Axes>"
      ]
     },
     "metadata": {
      "needs_background": "light"
     },
     "output_type": "display_data"
    }
   ],
   "source": [
    "sns.countplot(x='month', hue='isFraud', data=tmp_data)\n",
    "plt.show()"
   ]
  },
  {
   "cell_type": "code",
   "execution_count": 29,
   "id": "548cf533",
   "metadata": {},
   "outputs": [
    {
     "data": {
      "text/html": [
       "<div>\n",
       "<style scoped>\n",
       "    .dataframe tbody tr th:only-of-type {\n",
       "        vertical-align: middle;\n",
       "    }\n",
       "\n",
       "    .dataframe tbody tr th {\n",
       "        vertical-align: top;\n",
       "    }\n",
       "\n",
       "    .dataframe thead th {\n",
       "        text-align: right;\n",
       "    }\n",
       "</style>\n",
       "<table border=\"1\" class=\"dataframe\">\n",
       "  <thead>\n",
       "    <tr style=\"text-align: right;\">\n",
       "      <th>isFraud</th>\n",
       "      <th>False</th>\n",
       "      <th>True</th>\n",
       "    </tr>\n",
       "    <tr>\n",
       "      <th>month</th>\n",
       "      <th></th>\n",
       "      <th></th>\n",
       "    </tr>\n",
       "  </thead>\n",
       "  <tbody>\n",
       "    <tr>\n",
       "      <th>1</th>\n",
       "      <td>48851</td>\n",
       "      <td>993</td>\n",
       "    </tr>\n",
       "    <tr>\n",
       "      <th>2</th>\n",
       "      <td>47038</td>\n",
       "      <td>919</td>\n",
       "    </tr>\n",
       "    <tr>\n",
       "      <th>3</th>\n",
       "      <td>50985</td>\n",
       "      <td>1017</td>\n",
       "    </tr>\n",
       "    <tr>\n",
       "      <th>4</th>\n",
       "      <td>49891</td>\n",
       "      <td>907</td>\n",
       "    </tr>\n",
       "    <tr>\n",
       "      <th>5</th>\n",
       "      <td>52527</td>\n",
       "      <td>984</td>\n",
       "    </tr>\n",
       "    <tr>\n",
       "      <th>6</th>\n",
       "      <td>51703</td>\n",
       "      <td>932</td>\n",
       "    </tr>\n",
       "    <tr>\n",
       "      <th>7</th>\n",
       "      <td>53882</td>\n",
       "      <td>988</td>\n",
       "    </tr>\n",
       "    <tr>\n",
       "      <th>8</th>\n",
       "      <td>54662</td>\n",
       "      <td>908</td>\n",
       "    </tr>\n",
       "    <tr>\n",
       "      <th>9</th>\n",
       "      <td>53484</td>\n",
       "      <td>873</td>\n",
       "    </tr>\n",
       "    <tr>\n",
       "      <th>10</th>\n",
       "      <td>56352</td>\n",
       "      <td>993</td>\n",
       "    </tr>\n",
       "    <tr>\n",
       "      <th>11</th>\n",
       "      <td>55259</td>\n",
       "      <td>901</td>\n",
       "    </tr>\n",
       "    <tr>\n",
       "      <th>12</th>\n",
       "      <td>55978</td>\n",
       "      <td>887</td>\n",
       "    </tr>\n",
       "  </tbody>\n",
       "</table>\n",
       "</div>"
      ],
      "text/plain": [
       "isFraud  False  True\n",
       "month               \n",
       "1        48851   993\n",
       "2        47038   919\n",
       "3        50985  1017\n",
       "4        49891   907\n",
       "5        52527   984\n",
       "6        51703   932\n",
       "7        53882   988\n",
       "8        54662   908\n",
       "9        53484   873\n",
       "10       56352   993\n",
       "11       55259   901\n",
       "12       55978   887"
      ]
     },
     "execution_count": 29,
     "metadata": {},
     "output_type": "execute_result"
    }
   ],
   "source": [
    "pd.crosstab(tmp_data.month,tmp_data.isFraud)"
   ]
  },
  {
   "cell_type": "markdown",
   "id": "ed68922d",
   "metadata": {},
   "source": [
    "pada tahun 2016, yang banyak melakukan fraud dibulan ketiga yaitu bulan maret"
   ]
  },
  {
   "cell_type": "code",
   "execution_count": 30,
   "id": "d6c274c1",
   "metadata": {},
   "outputs": [],
   "source": [
    "#Ubah kolom yang berisi True / False menjadi 0 / 1\n",
    "binary_col = ['isFraud', 'cardPresent', 'expirationDateKeyInMatch', 'MatchCVV']\n",
    "\n",
    "for col in binary_col:\n",
    "    tmp_data[col] = tmp_data[col].apply(lambda row:1 if row == True else 0)"
   ]
  },
  {
   "cell_type": "code",
   "execution_count": 31,
   "id": "4e6b258d",
   "metadata": {},
   "outputs": [
    {
     "data": {
      "text/html": [
       "<div>\n",
       "<style scoped>\n",
       "    .dataframe tbody tr th:only-of-type {\n",
       "        vertical-align: middle;\n",
       "    }\n",
       "\n",
       "    .dataframe tbody tr th {\n",
       "        vertical-align: top;\n",
       "    }\n",
       "\n",
       "    .dataframe thead th {\n",
       "        text-align: right;\n",
       "    }\n",
       "</style>\n",
       "<table border=\"1\" class=\"dataframe\">\n",
       "  <thead>\n",
       "    <tr style=\"text-align: right;\">\n",
       "      <th></th>\n",
       "      <th>accountNumber</th>\n",
       "      <th>customerId</th>\n",
       "      <th>creditLimit</th>\n",
       "      <th>availableMoney</th>\n",
       "      <th>transactionDateTime</th>\n",
       "      <th>transactionAmount</th>\n",
       "      <th>merchantName</th>\n",
       "      <th>acqCountry</th>\n",
       "      <th>merchantCountryCode</th>\n",
       "      <th>posEntryMode</th>\n",
       "      <th>...</th>\n",
       "      <th>isFraud</th>\n",
       "      <th>currentBalance</th>\n",
       "      <th>cardPresent</th>\n",
       "      <th>expirationDateKeyInMatch</th>\n",
       "      <th>DaysSinceLastAdressChange</th>\n",
       "      <th>daysToExpiration</th>\n",
       "      <th>year</th>\n",
       "      <th>month</th>\n",
       "      <th>day</th>\n",
       "      <th>MatchCVV</th>\n",
       "    </tr>\n",
       "  </thead>\n",
       "  <tbody>\n",
       "    <tr>\n",
       "      <th>0</th>\n",
       "      <td>733493772</td>\n",
       "      <td>733493772</td>\n",
       "      <td>5000.0</td>\n",
       "      <td>5000.0</td>\n",
       "      <td>2016-01-08 19:04:50</td>\n",
       "      <td>111.33</td>\n",
       "      <td>Lyft</td>\n",
       "      <td>US</td>\n",
       "      <td>US</td>\n",
       "      <td>5.0</td>\n",
       "      <td>...</td>\n",
       "      <td>1</td>\n",
       "      <td>0.0</td>\n",
       "      <td>0</td>\n",
       "      <td>0</td>\n",
       "      <td>-523.795023</td>\n",
       "      <td>1544.204977</td>\n",
       "      <td>2016</td>\n",
       "      <td>1</td>\n",
       "      <td>8</td>\n",
       "      <td>1</td>\n",
       "    </tr>\n",
       "  </tbody>\n",
       "</table>\n",
       "<p>1 rows × 29 columns</p>\n",
       "</div>"
      ],
      "text/plain": [
       "   accountNumber  customerId  creditLimit  availableMoney transactionDateTime  \\\n",
       "0      733493772   733493772       5000.0          5000.0 2016-01-08 19:04:50   \n",
       "\n",
       "   transactionAmount merchantName acqCountry merchantCountryCode posEntryMode  \\\n",
       "0             111.33         Lyft         US                  US          5.0   \n",
       "\n",
       "   ... isFraud currentBalance cardPresent expirationDateKeyInMatch  \\\n",
       "0  ...       1            0.0           0                        0   \n",
       "\n",
       "  DaysSinceLastAdressChange  daysToExpiration  year  month day  MatchCVV  \n",
       "0               -523.795023       1544.204977  2016      1   8         1  \n",
       "\n",
       "[1 rows x 29 columns]"
      ]
     },
     "execution_count": 31,
     "metadata": {},
     "output_type": "execute_result"
    }
   ],
   "source": [
    "tmp_data.head(1)"
   ]
  },
  {
   "cell_type": "markdown",
   "id": "eb81c7c6",
   "metadata": {},
   "source": [
    "### Feature Selection"
   ]
  },
  {
   "cell_type": "code",
   "execution_count": 32,
   "id": "f7681a01",
   "metadata": {},
   "outputs": [],
   "source": [
    "from scipy.stats import chi2_contingency"
   ]
  },
  {
   "cell_type": "code",
   "execution_count": 33,
   "id": "52182298",
   "metadata": {},
   "outputs": [
    {
     "data": {
      "text/html": [
       "<div>\n",
       "<style scoped>\n",
       "    .dataframe tbody tr th:only-of-type {\n",
       "        vertical-align: middle;\n",
       "    }\n",
       "\n",
       "    .dataframe tbody tr th {\n",
       "        vertical-align: top;\n",
       "    }\n",
       "\n",
       "    .dataframe thead th {\n",
       "        text-align: right;\n",
       "    }\n",
       "</style>\n",
       "<table border=\"1\" class=\"dataframe\">\n",
       "  <thead>\n",
       "    <tr style=\"text-align: right;\">\n",
       "      <th></th>\n",
       "      <th>Variable</th>\n",
       "      <th>chi_square</th>\n",
       "      <th>P-Value</th>\n",
       "    </tr>\n",
       "  </thead>\n",
       "  <tbody>\n",
       "    <tr>\n",
       "      <th>0</th>\n",
       "      <td>merchantName</td>\n",
       "      <td>6890.183287</td>\n",
       "      <td>0.000000e+00</td>\n",
       "    </tr>\n",
       "    <tr>\n",
       "      <th>1</th>\n",
       "      <td>acqCountry</td>\n",
       "      <td>17.853153</td>\n",
       "      <td>4.716113e-04</td>\n",
       "    </tr>\n",
       "    <tr>\n",
       "      <th>2</th>\n",
       "      <td>merchantCountryCode</td>\n",
       "      <td>21.618955</td>\n",
       "      <td>7.829090e-05</td>\n",
       "    </tr>\n",
       "    <tr>\n",
       "      <th>3</th>\n",
       "      <td>merchantCategoryCode</td>\n",
       "      <td>1717.856308</td>\n",
       "      <td>0.000000e+00</td>\n",
       "    </tr>\n",
       "    <tr>\n",
       "      <th>4</th>\n",
       "      <td>posEntryMode</td>\n",
       "      <td>2313.799914</td>\n",
       "      <td>0.000000e+00</td>\n",
       "    </tr>\n",
       "    <tr>\n",
       "      <th>5</th>\n",
       "      <td>posConditionCode</td>\n",
       "      <td>238.129319</td>\n",
       "      <td>1.953779e-52</td>\n",
       "    </tr>\n",
       "    <tr>\n",
       "      <th>6</th>\n",
       "      <td>transactionType</td>\n",
       "      <td>148.612523</td>\n",
       "      <td>5.360443e-33</td>\n",
       "    </tr>\n",
       "  </tbody>\n",
       "</table>\n",
       "</div>"
      ],
      "text/plain": [
       "               Variable   chi_square       P-Value\n",
       "0          merchantName  6890.183287  0.000000e+00\n",
       "1            acqCountry    17.853153  4.716113e-04\n",
       "2   merchantCountryCode    21.618955  7.829090e-05\n",
       "3  merchantCategoryCode  1717.856308  0.000000e+00\n",
       "4          posEntryMode  2313.799914  0.000000e+00\n",
       "5      posConditionCode   238.129319  1.953779e-52\n",
       "6       transactionType   148.612523  5.360443e-33"
      ]
     },
     "execution_count": 33,
     "metadata": {},
     "output_type": "execute_result"
    }
   ],
   "source": [
    "char_column = ['merchantName','acqCountry', 'merchantCountryCode', 'merchantCategoryCode', 'posEntryMode', 'posConditionCode', 'transactionType']\n",
    "\n",
    "pi_array, chi_array = [], []\n",
    "\n",
    "for column in char_column:\n",
    "    crosstab = pd.crosstab(tmp_data[column], tmp_data['isFraud'])\n",
    "    chi2, p, dof, expected = chi2_contingency(crosstab)\n",
    "    chi_array.append(chi2)\n",
    "    pi_array.append(p)\n",
    "    \n",
    "df_chi = pd.DataFrame({'Variable':char_column,\n",
    "                       'chi_square':chi_array,\n",
    "                       'P-Value':pi_array})\n",
    "\n",
    "df_chi"
   ]
  },
  {
   "cell_type": "markdown",
   "id": "c6719ec2",
   "metadata": {},
   "source": [
    "kolom yang memiliki hubungan dengan target variable yaitu 'acCountry', 'merchantCountryCode', 'posConditionCode', 'transactionType'"
   ]
  },
  {
   "cell_type": "markdown",
   "id": "e0a9152e",
   "metadata": {},
   "source": [
    "### One hot encoding"
   ]
  },
  {
   "cell_type": "code",
   "execution_count": 34,
   "id": "175ad6aa",
   "metadata": {},
   "outputs": [],
   "source": [
    "def nominal(df, col):\n",
    "    dummies = pd.get_dummies(df[col], prefix=col)\n",
    "    df = pd.concat([df, dummies], axis=1)\n",
    "    return df\n",
    "\n",
    "tmp_data = nominal(tmp_data, 'acqCountry')\n",
    "tmp_data = nominal(tmp_data, 'merchantCountryCode')\n",
    "tmp_data = nominal(tmp_data, 'posConditionCode')\n",
    "tmp_data = nominal(tmp_data, 'transactionType')"
   ]
  },
  {
   "cell_type": "code",
   "execution_count": 35,
   "id": "073e4c07",
   "metadata": {},
   "outputs": [
    {
     "name": "stdout",
     "output_type": "stream",
     "text": [
      "<class 'pandas.core.frame.DataFrame'>\n",
      "RangeIndex: 641914 entries, 0 to 641913\n",
      "Data columns (total 43 columns):\n",
      " #   Column                                Non-Null Count   Dtype         \n",
      "---  ------                                --------------   -----         \n",
      " 0   accountNumber                         641914 non-null  int64         \n",
      " 1   customerId                            641914 non-null  int64         \n",
      " 2   creditLimit                           641914 non-null  float64       \n",
      " 3   availableMoney                        641914 non-null  float64       \n",
      " 4   transactionDateTime                   641914 non-null  datetime64[ns]\n",
      " 5   transactionAmount                     641914 non-null  float64       \n",
      " 6   merchantName                          641914 non-null  object        \n",
      " 7   acqCountry                            641914 non-null  object        \n",
      " 8   merchantCountryCode                   641914 non-null  object        \n",
      " 9   posEntryMode                          641914 non-null  object        \n",
      " 10  posConditionCode                      641914 non-null  object        \n",
      " 11  merchantCategoryCode                  641914 non-null  object        \n",
      " 12  currentExpDate                        641914 non-null  datetime64[ns]\n",
      " 13  accountOpenDate                       641914 non-null  datetime64[ns]\n",
      " 14  dateOfLastAddressChange               641914 non-null  datetime64[ns]\n",
      " 15  cardCVV                               641914 non-null  int64         \n",
      " 16  enteredCVV                            641914 non-null  int64         \n",
      " 17  cardLast4Digits                       641914 non-null  int64         \n",
      " 18  transactionType                       641914 non-null  object        \n",
      " 19  isFraud                               641914 non-null  int64         \n",
      " 20  currentBalance                        641914 non-null  float64       \n",
      " 21  cardPresent                           641914 non-null  int64         \n",
      " 22  expirationDateKeyInMatch              641914 non-null  int64         \n",
      " 23  DaysSinceLastAdressChange             641914 non-null  float64       \n",
      " 24  daysToExpiration                      641914 non-null  float64       \n",
      " 25  year                                  641914 non-null  int64         \n",
      " 26  month                                 641914 non-null  int64         \n",
      " 27  day                                   641914 non-null  int64         \n",
      " 28  MatchCVV                              641914 non-null  int64         \n",
      " 29  acqCountry_CAN                        641914 non-null  uint8         \n",
      " 30  acqCountry_MEX                        641914 non-null  uint8         \n",
      " 31  acqCountry_PR                         641914 non-null  uint8         \n",
      " 32  acqCountry_US                         641914 non-null  uint8         \n",
      " 33  merchantCountryCode_CAN               641914 non-null  uint8         \n",
      " 34  merchantCountryCode_MEX               641914 non-null  uint8         \n",
      " 35  merchantCountryCode_PR                641914 non-null  uint8         \n",
      " 36  merchantCountryCode_US                641914 non-null  uint8         \n",
      " 37  posConditionCode_1.0                  641914 non-null  uint8         \n",
      " 38  posConditionCode_8.0                  641914 non-null  uint8         \n",
      " 39  posConditionCode_99.0                 641914 non-null  uint8         \n",
      " 40  transactionType_ADDRESS_VERIFICATION  641914 non-null  uint8         \n",
      " 41  transactionType_PURCHASE              641914 non-null  uint8         \n",
      " 42  transactionType_REVERSAL              641914 non-null  uint8         \n",
      "dtypes: datetime64[ns](4), float64(6), int64(12), object(7), uint8(14)\n",
      "memory usage: 150.6+ MB\n"
     ]
    }
   ],
   "source": [
    "tmp_data.info()"
   ]
  },
  {
   "cell_type": "code",
   "execution_count": 36,
   "id": "8a33539e",
   "metadata": {},
   "outputs": [],
   "source": [
    "#drop kolom tidak perlu\n",
    "cols = ['accountNumber', 'customerId', 'acqCountry', 'merchantCountryCode', 'posConditionCode', 'transactionType']\n",
    "\n",
    "for col in cols:\n",
    "    tmp_data = tmp_data.drop(col, axis=1)"
   ]
  },
  {
   "cell_type": "code",
   "execution_count": 37,
   "id": "f805418a",
   "metadata": {},
   "outputs": [
    {
     "name": "stdout",
     "output_type": "stream",
     "text": [
      "<class 'pandas.core.frame.DataFrame'>\n",
      "RangeIndex: 641914 entries, 0 to 641913\n",
      "Data columns (total 37 columns):\n",
      " #   Column                                Non-Null Count   Dtype         \n",
      "---  ------                                --------------   -----         \n",
      " 0   creditLimit                           641914 non-null  float64       \n",
      " 1   availableMoney                        641914 non-null  float64       \n",
      " 2   transactionDateTime                   641914 non-null  datetime64[ns]\n",
      " 3   transactionAmount                     641914 non-null  float64       \n",
      " 4   merchantName                          641914 non-null  object        \n",
      " 5   posEntryMode                          641914 non-null  object        \n",
      " 6   merchantCategoryCode                  641914 non-null  object        \n",
      " 7   currentExpDate                        641914 non-null  datetime64[ns]\n",
      " 8   accountOpenDate                       641914 non-null  datetime64[ns]\n",
      " 9   dateOfLastAddressChange               641914 non-null  datetime64[ns]\n",
      " 10  cardCVV                               641914 non-null  int64         \n",
      " 11  enteredCVV                            641914 non-null  int64         \n",
      " 12  cardLast4Digits                       641914 non-null  int64         \n",
      " 13  isFraud                               641914 non-null  int64         \n",
      " 14  currentBalance                        641914 non-null  float64       \n",
      " 15  cardPresent                           641914 non-null  int64         \n",
      " 16  expirationDateKeyInMatch              641914 non-null  int64         \n",
      " 17  DaysSinceLastAdressChange             641914 non-null  float64       \n",
      " 18  daysToExpiration                      641914 non-null  float64       \n",
      " 19  year                                  641914 non-null  int64         \n",
      " 20  month                                 641914 non-null  int64         \n",
      " 21  day                                   641914 non-null  int64         \n",
      " 22  MatchCVV                              641914 non-null  int64         \n",
      " 23  acqCountry_CAN                        641914 non-null  uint8         \n",
      " 24  acqCountry_MEX                        641914 non-null  uint8         \n",
      " 25  acqCountry_PR                         641914 non-null  uint8         \n",
      " 26  acqCountry_US                         641914 non-null  uint8         \n",
      " 27  merchantCountryCode_CAN               641914 non-null  uint8         \n",
      " 28  merchantCountryCode_MEX               641914 non-null  uint8         \n",
      " 29  merchantCountryCode_PR                641914 non-null  uint8         \n",
      " 30  merchantCountryCode_US                641914 non-null  uint8         \n",
      " 31  posConditionCode_1.0                  641914 non-null  uint8         \n",
      " 32  posConditionCode_8.0                  641914 non-null  uint8         \n",
      " 33  posConditionCode_99.0                 641914 non-null  uint8         \n",
      " 34  transactionType_ADDRESS_VERIFICATION  641914 non-null  uint8         \n",
      " 35  transactionType_PURCHASE              641914 non-null  uint8         \n",
      " 36  transactionType_REVERSAL              641914 non-null  uint8         \n",
      "dtypes: datetime64[ns](4), float64(6), int64(10), object(3), uint8(14)\n",
      "memory usage: 121.2+ MB\n"
     ]
    }
   ],
   "source": [
    "tmp_data.info()"
   ]
  },
  {
   "cell_type": "code",
   "execution_count": 38,
   "id": "d53de9d4",
   "metadata": {},
   "outputs": [],
   "source": [
    "#drop kolom tidak perlu\n",
    "cols = ['transactionDateTime', 'currentExpDate', 'accountOpenDate', 'dateOfLastAddressChange', 'cardCVV', 'enteredCVV', 'cardLast4Digits']\n",
    "\n",
    "for col in cols:\n",
    "    tmp_data = tmp_data.drop(col, axis=1)"
   ]
  },
  {
   "cell_type": "code",
   "execution_count": 39,
   "id": "84f1946f",
   "metadata": {},
   "outputs": [
    {
     "name": "stdout",
     "output_type": "stream",
     "text": [
      "<class 'pandas.core.frame.DataFrame'>\n",
      "RangeIndex: 641914 entries, 0 to 641913\n",
      "Data columns (total 30 columns):\n",
      " #   Column                                Non-Null Count   Dtype  \n",
      "---  ------                                --------------   -----  \n",
      " 0   creditLimit                           641914 non-null  float64\n",
      " 1   availableMoney                        641914 non-null  float64\n",
      " 2   transactionAmount                     641914 non-null  float64\n",
      " 3   merchantName                          641914 non-null  object \n",
      " 4   posEntryMode                          641914 non-null  object \n",
      " 5   merchantCategoryCode                  641914 non-null  object \n",
      " 6   isFraud                               641914 non-null  int64  \n",
      " 7   currentBalance                        641914 non-null  float64\n",
      " 8   cardPresent                           641914 non-null  int64  \n",
      " 9   expirationDateKeyInMatch              641914 non-null  int64  \n",
      " 10  DaysSinceLastAdressChange             641914 non-null  float64\n",
      " 11  daysToExpiration                      641914 non-null  float64\n",
      " 12  year                                  641914 non-null  int64  \n",
      " 13  month                                 641914 non-null  int64  \n",
      " 14  day                                   641914 non-null  int64  \n",
      " 15  MatchCVV                              641914 non-null  int64  \n",
      " 16  acqCountry_CAN                        641914 non-null  uint8  \n",
      " 17  acqCountry_MEX                        641914 non-null  uint8  \n",
      " 18  acqCountry_PR                         641914 non-null  uint8  \n",
      " 19  acqCountry_US                         641914 non-null  uint8  \n",
      " 20  merchantCountryCode_CAN               641914 non-null  uint8  \n",
      " 21  merchantCountryCode_MEX               641914 non-null  uint8  \n",
      " 22  merchantCountryCode_PR                641914 non-null  uint8  \n",
      " 23  merchantCountryCode_US                641914 non-null  uint8  \n",
      " 24  posConditionCode_1.0                  641914 non-null  uint8  \n",
      " 25  posConditionCode_8.0                  641914 non-null  uint8  \n",
      " 26  posConditionCode_99.0                 641914 non-null  uint8  \n",
      " 27  transactionType_ADDRESS_VERIFICATION  641914 non-null  uint8  \n",
      " 28  transactionType_PURCHASE              641914 non-null  uint8  \n",
      " 29  transactionType_REVERSAL              641914 non-null  uint8  \n",
      "dtypes: float64(6), int64(7), object(3), uint8(14)\n",
      "memory usage: 86.9+ MB\n"
     ]
    }
   ],
   "source": [
    "tmp_data.info()"
   ]
  },
  {
   "cell_type": "code",
   "execution_count": 40,
   "id": "1b1f3dfd",
   "metadata": {},
   "outputs": [],
   "source": [
    "#drop kolom tidak perlu\n",
    "cols = ['posEntryMode', 'merchantCategoryCode']\n",
    "\n",
    "for col in cols:\n",
    "    tmp_data = tmp_data.drop(col, axis=1)"
   ]
  },
  {
   "cell_type": "code",
   "execution_count": 41,
   "id": "3f46a244",
   "metadata": {},
   "outputs": [
    {
     "name": "stdout",
     "output_type": "stream",
     "text": [
      "<class 'pandas.core.frame.DataFrame'>\n",
      "RangeIndex: 641914 entries, 0 to 641913\n",
      "Data columns (total 28 columns):\n",
      " #   Column                                Non-Null Count   Dtype  \n",
      "---  ------                                --------------   -----  \n",
      " 0   creditLimit                           641914 non-null  float64\n",
      " 1   availableMoney                        641914 non-null  float64\n",
      " 2   transactionAmount                     641914 non-null  float64\n",
      " 3   merchantName                          641914 non-null  object \n",
      " 4   isFraud                               641914 non-null  int64  \n",
      " 5   currentBalance                        641914 non-null  float64\n",
      " 6   cardPresent                           641914 non-null  int64  \n",
      " 7   expirationDateKeyInMatch              641914 non-null  int64  \n",
      " 8   DaysSinceLastAdressChange             641914 non-null  float64\n",
      " 9   daysToExpiration                      641914 non-null  float64\n",
      " 10  year                                  641914 non-null  int64  \n",
      " 11  month                                 641914 non-null  int64  \n",
      " 12  day                                   641914 non-null  int64  \n",
      " 13  MatchCVV                              641914 non-null  int64  \n",
      " 14  acqCountry_CAN                        641914 non-null  uint8  \n",
      " 15  acqCountry_MEX                        641914 non-null  uint8  \n",
      " 16  acqCountry_PR                         641914 non-null  uint8  \n",
      " 17  acqCountry_US                         641914 non-null  uint8  \n",
      " 18  merchantCountryCode_CAN               641914 non-null  uint8  \n",
      " 19  merchantCountryCode_MEX               641914 non-null  uint8  \n",
      " 20  merchantCountryCode_PR                641914 non-null  uint8  \n",
      " 21  merchantCountryCode_US                641914 non-null  uint8  \n",
      " 22  posConditionCode_1.0                  641914 non-null  uint8  \n",
      " 23  posConditionCode_8.0                  641914 non-null  uint8  \n",
      " 24  posConditionCode_99.0                 641914 non-null  uint8  \n",
      " 25  transactionType_ADDRESS_VERIFICATION  641914 non-null  uint8  \n",
      " 26  transactionType_PURCHASE              641914 non-null  uint8  \n",
      " 27  transactionType_REVERSAL              641914 non-null  uint8  \n",
      "dtypes: float64(6), int64(7), object(1), uint8(14)\n",
      "memory usage: 77.1+ MB\n"
     ]
    }
   ],
   "source": [
    "tmp_data.info()"
   ]
  },
  {
   "cell_type": "code",
   "execution_count": 42,
   "id": "0617d52b",
   "metadata": {},
   "outputs": [],
   "source": [
    "#drop kolom tidak perlu\n",
    "tmp_data = tmp_data.drop(['merchantName'], axis=1)"
   ]
  },
  {
   "cell_type": "code",
   "execution_count": 43,
   "id": "0814344b",
   "metadata": {},
   "outputs": [
    {
     "name": "stdout",
     "output_type": "stream",
     "text": [
      "<class 'pandas.core.frame.DataFrame'>\n",
      "RangeIndex: 641914 entries, 0 to 641913\n",
      "Data columns (total 27 columns):\n",
      " #   Column                                Non-Null Count   Dtype  \n",
      "---  ------                                --------------   -----  \n",
      " 0   creditLimit                           641914 non-null  float64\n",
      " 1   availableMoney                        641914 non-null  float64\n",
      " 2   transactionAmount                     641914 non-null  float64\n",
      " 3   isFraud                               641914 non-null  int64  \n",
      " 4   currentBalance                        641914 non-null  float64\n",
      " 5   cardPresent                           641914 non-null  int64  \n",
      " 6   expirationDateKeyInMatch              641914 non-null  int64  \n",
      " 7   DaysSinceLastAdressChange             641914 non-null  float64\n",
      " 8   daysToExpiration                      641914 non-null  float64\n",
      " 9   year                                  641914 non-null  int64  \n",
      " 10  month                                 641914 non-null  int64  \n",
      " 11  day                                   641914 non-null  int64  \n",
      " 12  MatchCVV                              641914 non-null  int64  \n",
      " 13  acqCountry_CAN                        641914 non-null  uint8  \n",
      " 14  acqCountry_MEX                        641914 non-null  uint8  \n",
      " 15  acqCountry_PR                         641914 non-null  uint8  \n",
      " 16  acqCountry_US                         641914 non-null  uint8  \n",
      " 17  merchantCountryCode_CAN               641914 non-null  uint8  \n",
      " 18  merchantCountryCode_MEX               641914 non-null  uint8  \n",
      " 19  merchantCountryCode_PR                641914 non-null  uint8  \n",
      " 20  merchantCountryCode_US                641914 non-null  uint8  \n",
      " 21  posConditionCode_1.0                  641914 non-null  uint8  \n",
      " 22  posConditionCode_8.0                  641914 non-null  uint8  \n",
      " 23  posConditionCode_99.0                 641914 non-null  uint8  \n",
      " 24  transactionType_ADDRESS_VERIFICATION  641914 non-null  uint8  \n",
      " 25  transactionType_PURCHASE              641914 non-null  uint8  \n",
      " 26  transactionType_REVERSAL              641914 non-null  uint8  \n",
      "dtypes: float64(6), int64(7), uint8(14)\n",
      "memory usage: 72.2 MB\n"
     ]
    }
   ],
   "source": [
    "tmp_data.info()"
   ]
  },
  {
   "cell_type": "markdown",
   "id": "db05e80a",
   "metadata": {},
   "source": [
    "#### Smote"
   ]
  },
  {
   "cell_type": "code",
   "execution_count": 44,
   "id": "f20dfaae",
   "metadata": {},
   "outputs": [],
   "source": [
    "from imblearn.over_sampling import RandomOverSampler, SMOTE\n",
    "from collections import Counter"
   ]
  },
  {
   "cell_type": "code",
   "execution_count": 45,
   "id": "e7707913",
   "metadata": {},
   "outputs": [
    {
     "name": "stdout",
     "output_type": "stream",
     "text": [
      "Fraud\n"
     ]
    },
    {
     "data": {
      "text/plain": [
       "<function matplotlib.pyplot.show(close=None, block=None)>"
      ]
     },
     "execution_count": 45,
     "metadata": {},
     "output_type": "execute_result"
    },
    {
     "data": {
      "image/png": "[encoded data removed]",
      "text/plain": [
       "<Figure size 432x288 with 1 Axes>"
      ]
     },
     "metadata": {
      "needs_background": "light"
     },
     "output_type": "display_data"
    }
   ],
   "source": [
    "sns.countplot(x='isFraud', data=tmp_data)\n",
    "print(\"Fraud\")\n",
    "plt.show"
   ]
  },
  {
   "cell_type": "code",
   "execution_count": 46,
   "id": "fdaf4c84",
   "metadata": {},
   "outputs": [
    {
     "data": {
      "text/html": [
       "<div>\n",
       "<style scoped>\n",
       "    .dataframe tbody tr th:only-of-type {\n",
       "        vertical-align: middle;\n",
       "    }\n",
       "\n",
       "    .dataframe tbody tr th {\n",
       "        vertical-align: top;\n",
       "    }\n",
       "\n",
       "    .dataframe thead th {\n",
       "        text-align: right;\n",
       "    }\n",
       "</style>\n",
       "<table border=\"1\" class=\"dataframe\">\n",
       "  <thead>\n",
       "    <tr style=\"text-align: right;\">\n",
       "      <th></th>\n",
       "      <th>creditLimit</th>\n",
       "      <th>availableMoney</th>\n",
       "      <th>transactionAmount</th>\n",
       "      <th>isFraud</th>\n",
       "      <th>currentBalance</th>\n",
       "      <th>cardPresent</th>\n",
       "      <th>expirationDateKeyInMatch</th>\n",
       "      <th>DaysSinceLastAdressChange</th>\n",
       "      <th>daysToExpiration</th>\n",
       "      <th>year</th>\n",
       "      <th>...</th>\n",
       "      <th>merchantCountryCode_CAN</th>\n",
       "      <th>merchantCountryCode_MEX</th>\n",
       "      <th>merchantCountryCode_PR</th>\n",
       "      <th>merchantCountryCode_US</th>\n",
       "      <th>posConditionCode_1.0</th>\n",
       "      <th>posConditionCode_8.0</th>\n",
       "      <th>posConditionCode_99.0</th>\n",
       "      <th>transactionType_ADDRESS_VERIFICATION</th>\n",
       "      <th>transactionType_PURCHASE</th>\n",
       "      <th>transactionType_REVERSAL</th>\n",
       "    </tr>\n",
       "  </thead>\n",
       "  <tbody>\n",
       "    <tr>\n",
       "      <th>0</th>\n",
       "      <td>5000.0</td>\n",
       "      <td>5000.00</td>\n",
       "      <td>111.33</td>\n",
       "      <td>1</td>\n",
       "      <td>0.00</td>\n",
       "      <td>0</td>\n",
       "      <td>0</td>\n",
       "      <td>-523.795023</td>\n",
       "      <td>1544.204977</td>\n",
       "      <td>2016</td>\n",
       "      <td>...</td>\n",
       "      <td>0</td>\n",
       "      <td>0</td>\n",
       "      <td>0</td>\n",
       "      <td>1</td>\n",
       "      <td>1</td>\n",
       "      <td>0</td>\n",
       "      <td>0</td>\n",
       "      <td>0</td>\n",
       "      <td>1</td>\n",
       "      <td>0</td>\n",
       "    </tr>\n",
       "    <tr>\n",
       "      <th>1</th>\n",
       "      <td>5000.0</td>\n",
       "      <td>4888.67</td>\n",
       "      <td>24.75</td>\n",
       "      <td>0</td>\n",
       "      <td>111.33</td>\n",
       "      <td>0</td>\n",
       "      <td>0</td>\n",
       "      <td>-524.939340</td>\n",
       "      <td>2699.060660</td>\n",
       "      <td>2016</td>\n",
       "      <td>...</td>\n",
       "      <td>0</td>\n",
       "      <td>0</td>\n",
       "      <td>0</td>\n",
       "      <td>1</td>\n",
       "      <td>1</td>\n",
       "      <td>0</td>\n",
       "      <td>0</td>\n",
       "      <td>0</td>\n",
       "      <td>1</td>\n",
       "      <td>0</td>\n",
       "    </tr>\n",
       "    <tr>\n",
       "      <th>2</th>\n",
       "      <td>5000.0</td>\n",
       "      <td>4863.92</td>\n",
       "      <td>187.40</td>\n",
       "      <td>0</td>\n",
       "      <td>136.08</td>\n",
       "      <td>0</td>\n",
       "      <td>0</td>\n",
       "      <td>-526.567303</td>\n",
       "      <td>4341.432697</td>\n",
       "      <td>2016</td>\n",
       "      <td>...</td>\n",
       "      <td>0</td>\n",
       "      <td>0</td>\n",
       "      <td>0</td>\n",
       "      <td>1</td>\n",
       "      <td>1</td>\n",
       "      <td>0</td>\n",
       "      <td>0</td>\n",
       "      <td>0</td>\n",
       "      <td>1</td>\n",
       "      <td>0</td>\n",
       "    </tr>\n",
       "    <tr>\n",
       "      <th>3</th>\n",
       "      <td>5000.0</td>\n",
       "      <td>4676.52</td>\n",
       "      <td>227.34</td>\n",
       "      <td>1</td>\n",
       "      <td>323.48</td>\n",
       "      <td>0</td>\n",
       "      <td>0</td>\n",
       "      <td>-526.949838</td>\n",
       "      <td>4981.050162</td>\n",
       "      <td>2016</td>\n",
       "      <td>...</td>\n",
       "      <td>0</td>\n",
       "      <td>0</td>\n",
       "      <td>0</td>\n",
       "      <td>1</td>\n",
       "      <td>1</td>\n",
       "      <td>0</td>\n",
       "      <td>0</td>\n",
       "      <td>0</td>\n",
       "      <td>1</td>\n",
       "      <td>0</td>\n",
       "    </tr>\n",
       "    <tr>\n",
       "      <th>4</th>\n",
       "      <td>5000.0</td>\n",
       "      <td>4449.18</td>\n",
       "      <td>0.00</td>\n",
       "      <td>0</td>\n",
       "      <td>550.82</td>\n",
       "      <td>0</td>\n",
       "      <td>0</td>\n",
       "      <td>-531.070266</td>\n",
       "      <td>3180.929734</td>\n",
       "      <td>2016</td>\n",
       "      <td>...</td>\n",
       "      <td>0</td>\n",
       "      <td>0</td>\n",
       "      <td>0</td>\n",
       "      <td>1</td>\n",
       "      <td>1</td>\n",
       "      <td>0</td>\n",
       "      <td>0</td>\n",
       "      <td>1</td>\n",
       "      <td>0</td>\n",
       "      <td>0</td>\n",
       "    </tr>\n",
       "  </tbody>\n",
       "</table>\n",
       "<p>5 rows × 27 columns</p>\n",
       "</div>"
      ],
      "text/plain": [
       "   creditLimit  availableMoney  transactionAmount  isFraud  currentBalance  \\\n",
       "0       5000.0         5000.00             111.33        1            0.00   \n",
       "1       5000.0         4888.67              24.75        0          111.33   \n",
       "2       5000.0         4863.92             187.40        0          136.08   \n",
       "3       5000.0         4676.52             227.34        1          323.48   \n",
       "4       5000.0         4449.18               0.00        0          550.82   \n",
       "\n",
       "   cardPresent  expirationDateKeyInMatch  DaysSinceLastAdressChange  \\\n",
       "0            0                         0                -523.795023   \n",
       "1            0                         0                -524.939340   \n",
       "2            0                         0                -526.567303   \n",
       "3            0                         0                -526.949838   \n",
       "4            0                         0                -531.070266   \n",
       "\n",
       "   daysToExpiration  year  ...  merchantCountryCode_CAN  \\\n",
       "0       1544.204977  2016  ...                        0   \n",
       "1       2699.060660  2016  ...                        0   \n",
       "2       4341.432697  2016  ...                        0   \n",
       "3       4981.050162  2016  ...                        0   \n",
       "4       3180.929734  2016  ...                        0   \n",
       "\n",
       "   merchantCountryCode_MEX  merchantCountryCode_PR  merchantCountryCode_US  \\\n",
       "0                        0                       0                       1   \n",
       "1                        0                       0                       1   \n",
       "2                        0                       0                       1   \n",
       "3                        0                       0                       1   \n",
       "4                        0                       0                       1   \n",
       "\n",
       "   posConditionCode_1.0  posConditionCode_8.0  posConditionCode_99.0  \\\n",
       "0                     1                     0                      0   \n",
       "1                     1                     0                      0   \n",
       "2                     1                     0                      0   \n",
       "3                     1                     0                      0   \n",
       "4                     1                     0                      0   \n",
       "\n",
       "   transactionType_ADDRESS_VERIFICATION  transactionType_PURCHASE  \\\n",
       "0                                     0                         1   \n",
       "1                                     0                         1   \n",
       "2                                     0                         1   \n",
       "3                                     0                         1   \n",
       "4                                     1                         0   \n",
       "\n",
       "   transactionType_REVERSAL  \n",
       "0                         0  \n",
       "1                         0  \n",
       "2                         0  \n",
       "3                         0  \n",
       "4                         0  \n",
       "\n",
       "[5 rows x 27 columns]"
      ]
     },
     "execution_count": 46,
     "metadata": {},
     "output_type": "execute_result"
    }
   ],
   "source": [
    "df = tmp_data\n",
    "df.head()"
   ]
  },
  {
   "cell_type": "code",
   "execution_count": 47,
   "id": "a814aa47",
   "metadata": {},
   "outputs": [
    {
     "name": "stdout",
     "output_type": "stream",
     "text": [
      "before sampling : Counter({0: 630612, 1: 11302})\n",
      "after sampling  Counter({0: 630612, 1: 378367})\n"
     ]
    }
   ],
   "source": [
    "X=df.drop(columns=['isFraud'])\n",
    "y=df['isFraud']\n",
    "print('before sampling :', Counter(y))\n",
    "\n",
    "sampling = SMOTE(sampling_strategy=0.6)\n",
    "X_smote, y_smote = sampling.fit_resample(X, y)\n",
    "print('after sampling ', Counter(y_smote))\n",
    "\n",
    "tmp_data = pd.concat([pd.DataFrame(X_smote), pd.DataFrame(y_smote)], axis=1)"
   ]
  },
  {
   "cell_type": "code",
   "execution_count": 48,
   "id": "de8e356a",
   "metadata": {},
   "outputs": [
    {
     "data": {
      "image/png": "[encoded data removed]",
      "text/plain": [
       "<Figure size 432x288 with 1 Axes>"
      ]
     },
     "metadata": {
      "needs_background": "light"
     },
     "output_type": "display_data"
    }
   ],
   "source": [
    "sns.countplot(x='isFraud', data=tmp_data)\n",
    "plt.show()"
   ]
  },
  {
   "cell_type": "markdown",
   "id": "bbde8d19",
   "metadata": {},
   "source": [
    "### Modelling"
   ]
  },
  {
   "cell_type": "code",
   "execution_count": 49,
   "id": "0ab9b545",
   "metadata": {},
   "outputs": [],
   "source": [
    "X = tmp_data.drop(columns=['isFraud'])\n",
    "y = tmp_data['isFraud']"
   ]
  },
  {
   "cell_type": "code",
   "execution_count": 50,
   "id": "da546595",
   "metadata": {},
   "outputs": [],
   "source": [
    "from sklearn.model_selection import train_test_split"
   ]
  },
  {
   "cell_type": "code",
   "execution_count": 51,
   "id": "21c608fa",
   "metadata": {},
   "outputs": [],
   "source": [
    "X_train, X_test, y_train, y_test = train_test_split(X, y, test_size=0.2, random_state=42)"
   ]
  },
  {
   "cell_type": "code",
   "execution_count": 52,
   "id": "2cc8f333",
   "metadata": {},
   "outputs": [],
   "source": [
    "from sklearn.preprocessing import RobustScaler\n",
    "rs = RobustScaler()\n",
    "\n",
    "X_train_scaled = rs.fit_transform(X_train)\n",
    "X_test_scaled = rs.fit_transform(X_test)\n",
    "\n",
    "X_train_scaled = pd.DataFrame(X_train_scaled, columns=X.columns)\n",
    "X_test_scaled = pd.DataFrame(X_test_scaled, columns=X.columns)"
   ]
  },
  {
   "cell_type": "code",
   "execution_count": 53,
   "id": "ca70f9be",
   "metadata": {},
   "outputs": [
    {
     "name": "stdout",
     "output_type": "stream",
     "text": [
      "(807183, 26) (807183,) (201796, 26) (201796,)\n"
     ]
    }
   ],
   "source": [
    "print(X_train_scaled.shape, y_train.shape, X_test_scaled.shape, y_test.shape)"
   ]
  },
  {
   "cell_type": "markdown",
   "id": "53f6d1b1",
   "metadata": {},
   "source": [
    "### Library"
   ]
  },
  {
   "cell_type": "code",
   "execution_count": 54,
   "id": "54986a75",
   "metadata": {},
   "outputs": [],
   "source": [
    "from sklearn.linear_model import LogisticRegression\n",
    "from sklearn.tree import DecisionTreeClassifier\n",
    "from sklearn.ensemble import RandomForestClassifier\n",
    "from sklearn.metrics import confusion_matrix, classification_report"
   ]
  },
  {
   "cell_type": "code",
   "execution_count": 55,
   "id": "bd58503f",
   "metadata": {},
   "outputs": [],
   "source": [
    "def classification_eval(aktual, prediksi, name):\n",
    "    cm = confusion_matrix(aktual, prediksi)\n",
    "    tp = cm[1][1]\n",
    "    tn = cm[0][0]\n",
    "    fp = cm[0][1]\n",
    "    fn = cm[1][0]\n",
    "    \n",
    "    accuracy = round((tp+tn)/(tp+tn+fp+fn) *100,2)\n",
    "    precision = round((tp)/(tp+fp)*100, 2)\n",
    "    recall = round((tp)/(tp+fn)*100, 2)\n",
    "    \n",
    "    print(\"evaluation model\", name)\n",
    "    print(cm)\n",
    "    print(\"accuracy:\", accuracy, \"%\")\n",
    "    print(\"precision:\", precision, \"%\")\n",
    "    print(\"recall:\", recall, \"%\")"
   ]
  },
  {
   "cell_type": "markdown",
   "id": "c07d1cfd",
   "metadata": {},
   "source": [
    "### Logistic Regression"
   ]
  },
  {
   "cell_type": "code",
   "execution_count": 56,
   "id": "50603dd1",
   "metadata": {},
   "outputs": [
    {
     "data": {
      "text/plain": [
       "LogisticRegression()"
      ]
     },
     "execution_count": 56,
     "metadata": {},
     "output_type": "execute_result"
    }
   ],
   "source": [
    "LR=LogisticRegression()\n",
    "LR.fit(X_train_scaled, y_train)"
   ]
  },
  {
   "cell_type": "code",
   "execution_count": 57,
   "id": "c3db2126",
   "metadata": {},
   "outputs": [],
   "source": [
    "y_train_pred = LR.predict(X_train_scaled)\n",
    "y_test_pred = LR.predict(X_test_scaled)"
   ]
  },
  {
   "cell_type": "code",
   "execution_count": 58,
   "id": "ba1bd8d8",
   "metadata": {},
   "outputs": [
    {
     "name": "stdout",
     "output_type": "stream",
     "text": [
      "evaluation model LR Training\n",
      "[[466422  38063]\n",
      " [137912 164786]]\n",
      "accuracy: 78.2 %\n",
      "precision: 81.24 %\n",
      "recall: 54.44 %\n"
     ]
    }
   ],
   "source": [
    "classification_eval(y_train, y_train_pred, 'LR Training')"
   ]
  },
  {
   "cell_type": "code",
   "execution_count": 59,
   "id": "d588823a",
   "metadata": {},
   "outputs": [
    {
     "name": "stdout",
     "output_type": "stream",
     "text": [
      "evaluation model LR Test\n",
      "[[116488   9639]\n",
      " [ 34600  41069]]\n",
      "accuracy: 78.08 %\n",
      "precision: 80.99 %\n",
      "recall: 54.27 %\n"
     ]
    }
   ],
   "source": [
    "classification_eval(y_test, y_test_pred, 'LR Test')"
   ]
  },
  {
   "cell_type": "code",
   "execution_count": 60,
   "id": "4b655604",
   "metadata": {},
   "outputs": [
    {
     "name": "stdout",
     "output_type": "stream",
     "text": [
      "              precision    recall  f1-score   support\n",
      "\n",
      "           0       0.77      0.92      0.84    126127\n",
      "           1       0.81      0.54      0.65     75669\n",
      "\n",
      "    accuracy                           0.78    201796\n",
      "   macro avg       0.79      0.73      0.75    201796\n",
      "weighted avg       0.79      0.78      0.77    201796\n",
      "\n"
     ]
    }
   ],
   "source": [
    "print(classification_report(y_test, y_test_pred))"
   ]
  },
  {
   "cell_type": "markdown",
   "id": "1dd2ae90",
   "metadata": {},
   "source": [
    "berdasarkan model testing logistic regression didapatkan bahwa :\n",
    "1. Akurasi sebesar 78.08%\n",
    "2. precision sebesar 80.99%\n",
    "3. recall sebesar 54.27%\n",
    "4. model ini belum dianggap berhasil karena presentase recall yang rendah"
   ]
  },
  {
   "cell_type": "markdown",
   "id": "52bcb972",
   "metadata": {},
   "source": [
    "### Decision Tree"
   ]
  },
  {
   "cell_type": "code",
   "execution_count": 61,
   "id": "5b864a45",
   "metadata": {},
   "outputs": [
    {
     "data": {
      "image/png": "[encoded data removed]",
      "text/plain": [
       "<Figure size 432x288 with 1 Axes>"
      ]
     },
     "metadata": {
      "needs_background": "light"
     },
     "output_type": "display_data"
    }
   ],
   "source": [
    "from sklearn.metrics import roc_curve, auc\n",
    "\n",
    "train_results = []\n",
    "test_results = []\n",
    "for i in range(1, 30):\n",
    "    model = DecisionTreeClassifier(max_depth=i)\n",
    "    model.fit(X_train, y_train)\n",
    "    #prediksi data train dan hitung roc pada data train\n",
    "    train_predict = model.predict(X_train)\n",
    "    false_positive_rate, true_positive_rate, thresholds = roc_curve(y_train, train_predict)\n",
    "    roc_auc = auc(false_positive_rate, true_positive_rate)\n",
    "    #add roc_auc to train results\n",
    "    train_results.append(roc_auc)\n",
    "    #prediksi data test dan hitung roc pada data test\n",
    "    test_predict = model.predict(X_test)\n",
    "    false_positive_rate, true_positive_rate, thresholds = roc_curve(y_test, test_predict)\n",
    "    roc_auc = auc(false_positive_rate, true_positive_rate)\n",
    "    #add roc_auc to test_results\n",
    "    test_results.append(roc_auc)\n",
    "\n",
    "from matplotlib.legend_handler import HandlerLine2D\n",
    "line1, = plt.plot(range(1, 30), train_results, 'b', label='Train AUC')\n",
    "line2, = plt.plot(range(1, 30), test_results, 'r', label='Test AUC')\n",
    "plt.legend(handler_map={line1: HandlerLine2D(numpoints=2)})\n",
    "plt.ylabel('AUC score')\n",
    "plt.xlabel('Tree depth')\n",
    "plt.show()"
   ]
  },
  {
   "cell_type": "code",
   "execution_count": 62,
   "id": "9340e856",
   "metadata": {},
   "outputs": [
    {
     "data": {
      "text/plain": [
       "DecisionTreeClassifier(max_depth=25)"
      ]
     },
     "execution_count": 62,
     "metadata": {},
     "output_type": "execute_result"
    }
   ],
   "source": [
    "dectree = DecisionTreeClassifier(max_depth=25)\n",
    "dectree.fit(X_train, y_train)"
   ]
  },
  {
   "cell_type": "code",
   "execution_count": 63,
   "id": "4911b5de",
   "metadata": {},
   "outputs": [],
   "source": [
    "y_pred_train_DT = dectree.predict(X_train)\n",
    "y_pred_test_DT = dectree.predict(X_test)"
   ]
  },
  {
   "cell_type": "code",
   "execution_count": 64,
   "id": "e9668288",
   "metadata": {},
   "outputs": [
    {
     "name": "stdout",
     "output_type": "stream",
     "text": [
      "evaluation model DT Training\n",
      "[[451251  53234]\n",
      " [ 22636 280062]]\n",
      "accuracy: 90.6 %\n",
      "precision: 84.03 %\n",
      "recall: 92.52 %\n"
     ]
    }
   ],
   "source": [
    "classification_eval(y_train, y_pred_train_DT, 'DT Training')"
   ]
  },
  {
   "cell_type": "code",
   "execution_count": 65,
   "id": "5583bf1c",
   "metadata": {},
   "outputs": [
    {
     "name": "stdout",
     "output_type": "stream",
     "text": [
      "evaluation model DT Test\n",
      "[[107574  18553]\n",
      " [  9188  66481]]\n",
      "accuracy: 86.25 %\n",
      "precision: 78.18 %\n",
      "recall: 87.86 %\n"
     ]
    }
   ],
   "source": [
    "classification_eval(y_test, y_pred_test_DT, 'DT Test')"
   ]
  },
  {
   "cell_type": "code",
   "execution_count": 66,
   "id": "bf324b47",
   "metadata": {},
   "outputs": [
    {
     "name": "stdout",
     "output_type": "stream",
     "text": [
      "              precision    recall  f1-score   support\n",
      "\n",
      "           0       0.92      0.85      0.89    126127\n",
      "           1       0.78      0.88      0.83     75669\n",
      "\n",
      "    accuracy                           0.86    201796\n",
      "   macro avg       0.85      0.87      0.86    201796\n",
      "weighted avg       0.87      0.86      0.86    201796\n",
      "\n"
     ]
    }
   ],
   "source": [
    "print(classification_report(y_test, y_pred_test_DT))"
   ]
  },
  {
   "cell_type": "markdown",
   "id": "37b2a3d8",
   "metadata": {},
   "source": [
    "berdasarkan model decision tree didapatkan bahwa :\n",
    "1. Akurasi sebesar 86.25%\n",
    "2. precision sebesar 78.18%\n",
    "3. recall sebesar 87.86%\n",
    "4. model ini dianggap berhasil dalam memprediksi fraud karena keakuratan dalam memprediksi fraud dari data actual sebesar 87.86%"
   ]
  },
  {
   "cell_type": "markdown",
   "id": "86b5cfa2",
   "metadata": {},
   "source": [
    "### Random Forest"
   ]
  },
  {
   "cell_type": "code",
   "execution_count": 67,
   "id": "72298211",
   "metadata": {},
   "outputs": [
    {
     "data": {
      "text/plain": [
       "RandomForestClassifier(max_depth=25)"
      ]
     },
     "execution_count": 67,
     "metadata": {},
     "output_type": "execute_result"
    }
   ],
   "source": [
    "ranfor = RandomForestClassifier(max_depth=25)\n",
    "ranfor.fit(X_train, y_train)"
   ]
  },
  {
   "cell_type": "code",
   "execution_count": 68,
   "id": "260eeaad",
   "metadata": {},
   "outputs": [],
   "source": [
    "y_pred_train_RF = ranfor.predict(X_train)\n",
    "y_pred_test_RF = ranfor.predict(X_test)"
   ]
  },
  {
   "cell_type": "code",
   "execution_count": 69,
   "id": "e5ee9309",
   "metadata": {},
   "outputs": [
    {
     "name": "stdout",
     "output_type": "stream",
     "text": [
      "evaluation model RF Training\n",
      "[[457623  46862]\n",
      " [ 20572 282126]]\n",
      "accuracy: 91.65 %\n",
      "precision: 85.76 %\n",
      "recall: 93.2 %\n"
     ]
    }
   ],
   "source": [
    "classification_eval(y_train, y_pred_train_RF, 'RF Training')"
   ]
  },
  {
   "cell_type": "code",
   "execution_count": 70,
   "id": "70a15453",
   "metadata": {},
   "outputs": [
    {
     "name": "stdout",
     "output_type": "stream",
     "text": [
      "evaluation model DT Test\n",
      "[[112663  13464]\n",
      " [  9591  66078]]\n",
      "accuracy: 88.58 %\n",
      "precision: 83.07 %\n",
      "recall: 87.33 %\n"
     ]
    }
   ],
   "source": [
    "classification_eval(y_test, y_pred_test_RF, 'DT Test')"
   ]
  },
  {
   "cell_type": "code",
   "execution_count": 71,
   "id": "feec2763",
   "metadata": {},
   "outputs": [
    {
     "name": "stdout",
     "output_type": "stream",
     "text": [
      "              precision    recall  f1-score   support\n",
      "\n",
      "           0       0.92      0.89      0.91    126127\n",
      "           1       0.83      0.87      0.85     75669\n",
      "\n",
      "    accuracy                           0.89    201796\n",
      "   macro avg       0.88      0.88      0.88    201796\n",
      "weighted avg       0.89      0.89      0.89    201796\n",
      "\n"
     ]
    }
   ],
   "source": [
    "print(classification_report(y_test, y_pred_test_RF))"
   ]
  },
  {
   "cell_type": "markdown",
   "id": "13191d28",
   "metadata": {},
   "source": [
    "berdasarkan model random forest didapatkan bahwa :\n",
    "1. accuracy sebesar 88.58%\n",
    "2. precision sebesar 83.07%\n",
    "3. recall sebesar 87.33%\n",
    "4. model ini dianggap berhasil dalam memprediksi fraud karena keakuratan memprediksi fraud dari data actual sebesar 87.33%"
   ]
  },
  {
   "cell_type": "code",
   "execution_count": null,
   "id": "ed274cb9",
   "metadata": {},
   "outputs": [],
   "source": []
  }
 ],
 "metadata": {
  "kernelspec": {
   "display_name": "Python 3 (ipykernel)",
   "language": "python",
   "name": "python3"
  },
  "language_info": {
   "codemirror_mode": {
    "name": "ipython",
    "version": 3
   },
   "file_extension": ".py",
   "mimetype": "text/x-python",
   "name": "python",
   "nbconvert_exporter": "python",
   "pygments_lexer": "ipython3",
   "version": "3.9.7"
  }
 },
 "nbformat": 4,
 "nbformat_minor": 5
}
